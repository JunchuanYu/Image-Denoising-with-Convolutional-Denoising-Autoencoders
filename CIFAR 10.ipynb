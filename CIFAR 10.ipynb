{
 "cells": [
  {
   "cell_type": "code",
   "execution_count": 1,
   "metadata": {},
   "outputs": [
    {
     "name": "stderr",
     "output_type": "stream",
     "text": [
      "Using TensorFlow backend.\n"
     ]
    }
   ],
   "source": [
    "import numpy as np\n",
    "import cv2\n",
    "import matplotlib.pyplot as plt\n",
    "import matplotlib.cm as cm\n",
    "import skimage\n",
    "import os\n",
    "from sklearn.metrics import mean_squared_error\n",
    "from skimage.measure import compare_psnr,compare_mse\n",
    "from skimage import data, img_as_float\n",
    "from skimage.restoration import denoise_nl_means\n",
    "from skimage.measure import compare_ssim as ssim\n",
    "from random import shuffle\n",
    "import math\n",
    "from keras.models import model_from_json, load_model\n",
    "from keras import optimizers\n",
    "from keras.layers import *\n",
    "from keras.models import Model\n",
    "from keras import regularizers\n",
    "from keras import backend as K\n",
    "from keras.callbacks import TensorBoard, ReduceLROnPlateau, CSVLogger, EarlyStopping, ModelCheckpoint\n",
    "from keras.layers.core import Lambda\n",
    "import pickle\n",
    "\n",
    "from utilities import *\n",
    "%matplotlib inline\n"
   ]
  },
  {
   "cell_type": "code",
   "execution_count": 2,
   "metadata": {
    "collapsed": true
   },
   "outputs": [],
   "source": [
    "def readcifar(path) : \n",
    "    with open(path, 'rb') as f:\n",
    "        train_set= pickle.load(f)\n",
    "    return train_set[\"data\"]"
   ]
  },
  {
   "cell_type": "code",
   "execution_count": 3,
   "metadata": {
    "collapsed": true
   },
   "outputs": [],
   "source": [
    "raw_train_set1 = readcifar('data/cifar-10-batches-py/data_batch_1')\n",
    "raw_train_set2 = readcifar('data/cifar-10-batches-py/data_batch_2')\n",
    "raw_train_set3 = readcifar('data/cifar-10-batches-py/data_batch_3')\n",
    "raw_train_set4 = readcifar('data/cifar-10-batches-py/data_batch_4')\n",
    "raw_train_set5 = readcifar('data/cifar-10-batches-py/data_batch_5')"
   ]
  },
  {
   "cell_type": "code",
   "execution_count": 4,
   "metadata": {
    "collapsed": true
   },
   "outputs": [],
   "source": [
    "raw_train_set = np.concatenate((raw_train_set1,raw_train_set2,raw_train_set3,raw_train_set4,raw_train_set5))"
   ]
  },
  {
   "cell_type": "code",
   "execution_count": 5,
   "metadata": {},
   "outputs": [
    {
     "data": {
      "text/plain": [
       "(50000, 3072)"
      ]
     },
     "execution_count": 5,
     "metadata": {},
     "output_type": "execute_result"
    }
   ],
   "source": [
    "raw_train_set.shape"
   ]
  },
  {
   "cell_type": "code",
   "execution_count": 6,
   "metadata": {
    "collapsed": true
   },
   "outputs": [],
   "source": [
    "def rgb2gray(rgb):\n",
    "\n",
    "    r, g, b = rgb[:,:,:,0], rgb[:,:,:,1], rgb[:,:,:,2]\n",
    "    gray = 0.2989 * r + 0.5870 * g + 0.1140 * b\n",
    "    return gray"
   ]
  },
  {
   "cell_type": "code",
   "execution_count": 7,
   "metadata": {
    "collapsed": true
   },
   "outputs": [],
   "source": [
    "def preprocess(images) :\n",
    "    images = images.reshape(images.shape[0], 3, 32, 32).transpose(0,2,3,1).astype(\"uint8\")\n",
    "    print images.shape\n",
    "    images = rgb2gray(images)\n",
    "    print images.shape\n",
    "    images = np.reshape(images, (images.shape[0],32,32))\n",
    "    return images"
   ]
  },
  {
   "cell_type": "code",
   "execution_count": 8,
   "metadata": {},
   "outputs": [
    {
     "name": "stdout",
     "output_type": "stream",
     "text": [
      "(50000, 32, 32, 3)\n",
      "(50000, 32, 32)\n"
     ]
    }
   ],
   "source": [
    "train_set = preprocess(raw_train_set)"
   ]
  },
  {
   "cell_type": "code",
   "execution_count": 9,
   "metadata": {
    "scrolled": true
   },
   "outputs": [
    {
     "data": {
      "text/plain": [
       "(50000, 32, 32)"
      ]
     },
     "execution_count": 9,
     "metadata": {},
     "output_type": "execute_result"
    }
   ],
   "source": [
    "train_set.shape"
   ]
  },
  {
   "cell_type": "code",
   "execution_count": 10,
   "metadata": {
    "collapsed": true
   },
   "outputs": [],
   "source": [
    "for i in range(100):\n",
    "    cv2.imwrite(\"./data/cifar-bw/image\"+str(i)+\".png\",train_set[i])"
   ]
  },
  {
   "cell_type": "code",
   "execution_count": 4,
   "metadata": {
    "collapsed": true
   },
   "outputs": [],
   "source": [
    "#Greyscale noise\n",
    "def add_gaussian_noise(images,mean,sigma,proportion):\n",
    "    x_train_noisy=[]\n",
    "    for i in range(images.shape[0]):\n",
    "        img = images[i]\n",
    "        noise_img,_ = add_greyscale_noise(img,mean,sigma)\n",
    "        x_train_noisy.append(noise_img)\n",
    "    return np.array(x_train_noisy)\n",
    "\n",
    "\n",
    "def convert_to_multichannel(test_img):\n",
    "    grey_noisy = np.zeros((test_img.shape[0],test_img.shape[1],test_img.shape[2],3),dtype=np.uint8)\n",
    "    grey_noisy[:,:,:,0] = test_img\n",
    "    grey_noisy[:,:,:,1] = test_img\n",
    "    grey_noisy[:,:,:,2] = test_img\n",
    "    \n",
    "    return grey_noisy\n",
    "#Adding noise to images\n",
    "def add_noise(images):\n",
    "    #x_train = np.reshape(x_train, (len(x_train), 64*64))  # adapt this if using `channels_first` image data format\n",
    "    #x_test = np.reshape(x_test, (len(x_test), 64*64))  # adapt this if using `channels_first` image data format\n",
    "    batch = images.shape[0]//5;\n",
    "    noise1 = add_gaussian_noise(images[0:batch],0,15,1)\n",
    "    noise2 = add_gaussian_noise(images[batch:2*batch],0,20,1)\n",
    "    noise3 = add_gaussian_noise(images[2*batch:3*batch],0,25,1)\n",
    "    noise4 = add_gaussian_noise(images[3*batch:4*batch],0,30,1)\n",
    "    noise5 = add_gaussian_noise(images[4*batch:],0,35,1)\n",
    "    \n",
    "    noisy_set = []\n",
    "    for data in [noise1,noise2,noise3,noise4,noise5]:\n",
    "        for image in data:\n",
    "            noisy_set.append(image)\n",
    "    \n",
    "    return np.array(noisy_set)\n",
    "   \n",
    "#Shuffle the noisy image ground truth pair to randomize the noise distribution in the dataset\n",
    "def pair_shuffle(images,noisy_set):\n",
    "    image_pair = []\n",
    "    for i in range(images.shape[0]):\n",
    "        image_pair.append((images[i],noisy_set[i]))\n",
    "    shuffle(image_pair)\n",
    "    \n",
    "    ground_truth=[]\n",
    "    noisy_images = []\n",
    "    for i in range(images.shape[0]):\n",
    "        ground_truth.append(image_pair[i][0])\n",
    "        noisy_images.append(image_pair[i][1])\n",
    "    return np.array(ground_truth), np.array(noisy_images)"
   ]
  },
  {
   "cell_type": "code",
   "execution_count": 22,
   "metadata": {
    "collapsed": true
   },
   "outputs": [],
   "source": [
    "noisy_set = add_noise(train_set)\n",
    "for i in range(100):\n",
    "    cv2.imwrite(\"./data/noisy-cifar-bw/image\"+str(i)+\".png\",noisy_set[-i])"
   ]
  },
  {
   "cell_type": "code",
   "execution_count": 23,
   "metadata": {
    "collapsed": true
   },
   "outputs": [],
   "source": [
    "#Shuffling and adding noise to the dataset\n",
    "ground_truth,noisy_images = pair_shuffle(convert_to_multichannel(train_set),noisy_set)"
   ]
  },
  {
   "cell_type": "code",
   "execution_count": 26,
   "metadata": {},
   "outputs": [
    {
     "name": "stdout",
     "output_type": "stream",
     "text": [
      "(37500, 32, 32, 3)\n",
      "(12500, 32, 32, 3)\n"
     ]
    }
   ],
   "source": [
    "#Split into training and cross validation and normalizing\n",
    "train_size = int(ground_truth.shape[0]*0.75)\n",
    "x_train = ground_truth[0:train_size]/255.\n",
    "x_train_noisy = noisy_images[0:train_size]/255.\n",
    "x_test = ground_truth[train_size:]/255.\n",
    "x_test_noisy = noisy_images[train_size:]/255.\n",
    "print (x_train_noisy.shape)\n",
    "print (x_test_noisy.shape)"
   ]
  },
  {
   "cell_type": "code",
   "execution_count": 27,
   "metadata": {
    "collapsed": true
   },
   "outputs": [],
   "source": [
    "lr_reducer = ReduceLROnPlateau(factor = np.sqrt(0.1), cooldown=0, patience=2, min_lr=0.5e-6)\n",
    "csv_logger = CSVLogger('./models/simple_cnn_autoencoder.csv')\n",
    "early_stopper = EarlyStopping(min_delta=0.001,patience=30)\n",
    "model_checkpoint = ModelCheckpoint('./models/simple_cnn_autoencoder.hdf5',monitor = 'loss', verbose = 1,save_best_only=True)"
   ]
  },
  {
   "cell_type": "code",
   "execution_count": 34,
   "metadata": {
    "collapsed": true
   },
   "outputs": [],
   "source": [
    "x_train[0].shape\n"
   ]
  },
  {
   "cell_type": "code",
   "execution_count": 39,
   "metadata": {
    "collapsed": true
   },
   "outputs": [],
   "source": [
    "#Defining the model\n",
    "\n",
    "def get_simple_cnn_autoencoder_model(model_path=None):\n",
    "    \n",
    "    if(model_path is None):\n",
    "        autoencoder = None\n",
    "    else:\n",
    "        autoencoder = read_model_json(model_path) \n",
    "    \n",
    "    if(autoencoder is None):\n",
    "        input_img = Input(shape=(None,None,3))  # adapt this if using `channels_first` image data format\n",
    "\n",
    "        x = Conv2D(64, (3, 3), activation='relu', padding='same')(input_img)\n",
    "        x = MaxPooling2D((2, 2), padding='same')(x)\n",
    "        x = Conv2D(64, (3, 3), activation='relu', padding='same')(x)\n",
    "        encoded = MaxPooling2D((2, 2), padding='same')(x)\n",
    "\n",
    "        x = Conv2D(64, (3, 3), activation='relu', padding='same')(encoded)\n",
    "        x = UpSampling2D((2, 2))(x)\n",
    "        x = Conv2D(64, (3, 3), activation='relu', padding='same')(x)\n",
    "        x = UpSampling2D((2, 2))(x)\n",
    "        decoded = Conv2D(3, (3, 3), activation='sigmoid', padding='same')(x)\n",
    "    \n",
    "        optimizers.Adam(lr=0.001, beta_1=0.9, beta_2=0.999, epsilon=1e-08, decay=0.0)\n",
    "        \n",
    "        autoencoder = Model(input_img, decoded)\n",
    "        autoencoder.compile(optimizer='Adam', loss='mean_squared_error',metrics = ['accuracy','mean_squared_error'])\n",
    "\n",
    "    print (autoencoder.summary())\n",
    "    return autoencoder"
   ]
  },
  {
   "cell_type": "code",
   "execution_count": 40,
   "metadata": {
    "scrolled": false
   },
   "outputs": [
    {
     "name": "stdout",
     "output_type": "stream",
     "text": [
      "_________________________________________________________________\n",
      "Layer (type)                 Output Shape              Param #   \n",
      "=================================================================\n",
      "input_5 (InputLayer)         (None, None, None, 3)     0         \n",
      "_________________________________________________________________\n",
      "conv2d_21 (Conv2D)           (None, None, None, 64)    1792      \n",
      "_________________________________________________________________\n",
      "max_pooling2d_9 (MaxPooling2 (None, None, None, 64)    0         \n",
      "_________________________________________________________________\n",
      "conv2d_22 (Conv2D)           (None, None, None, 64)    36928     \n",
      "_________________________________________________________________\n",
      "max_pooling2d_10 (MaxPooling (None, None, None, 64)    0         \n",
      "_________________________________________________________________\n",
      "conv2d_23 (Conv2D)           (None, None, None, 64)    36928     \n",
      "_________________________________________________________________\n",
      "up_sampling2d_9 (UpSampling2 (None, None, None, 64)    0         \n",
      "_________________________________________________________________\n",
      "conv2d_24 (Conv2D)           (None, None, None, 64)    36928     \n",
      "_________________________________________________________________\n",
      "up_sampling2d_10 (UpSampling (None, None, None, 64)    0         \n",
      "_________________________________________________________________\n",
      "conv2d_25 (Conv2D)           (None, None, None, 3)     1731      \n",
      "=================================================================\n",
      "Total params: 114,307\n",
      "Trainable params: 114,307\n",
      "Non-trainable params: 0\n",
      "_________________________________________________________________\n",
      "None\n"
     ]
    }
   ],
   "source": [
    "#Training the model\n",
    "autoencoder = get_simple_cnn_autoencoder_model()\n"
   ]
  },
  {
   "cell_type": "code",
   "execution_count": 41,
   "metadata": {
    "scrolled": true
   },
   "outputs": [
    {
     "name": "stdout",
     "output_type": "stream",
     "text": [
      "Train on 37500 samples, validate on 12500 samples\n",
      "Epoch 1/50\n",
      "37460/37500 [============================>.] - ETA: 0s - loss: 0.0148 - acc: 0.3482 - mean_squared_error: 0.0148Epoch 00000: loss improved from inf to 0.01479, saving model to ./models/simple_cnn_autoencoder.hdf5\n",
      "37500/37500 [==============================] - 99s - loss: 0.0148 - acc: 0.3482 - mean_squared_error: 0.0148 - val_loss: 0.0122 - val_acc: 0.3483 - val_mean_squared_error: 0.0122\n",
      "Epoch 2/50\n",
      "37460/37500 [============================>.] - ETA: 0s - loss: 0.0121 - acc: 0.3403 - mean_squared_error: 0.0121Epoch 00001: loss improved from 0.01479 to 0.01210, saving model to ./models/simple_cnn_autoencoder.hdf5\n",
      "37500/37500 [==============================] - 98s - loss: 0.0121 - acc: 0.3403 - mean_squared_error: 0.0121 - val_loss: 0.0116 - val_acc: 0.3303 - val_mean_squared_error: 0.0116\n",
      "Epoch 3/50\n",
      "37480/37500 [============================>.] - ETA: 0s - loss: 0.0116 - acc: 0.3370 - mean_squared_error: 0.0116Epoch 00002: loss improved from 0.01210 to 0.01156, saving model to ./models/simple_cnn_autoencoder.hdf5\n",
      "37500/37500 [==============================] - 98s - loss: 0.0116 - acc: 0.3370 - mean_squared_error: 0.0116 - val_loss: 0.0132 - val_acc: 0.2742 - val_mean_squared_error: 0.0132\n",
      "Epoch 4/50\n",
      "37480/37500 [============================>.] - ETA: 0s - loss: 0.0111 - acc: 0.3403 - mean_squared_error: 0.0111Epoch 00003: loss improved from 0.01156 to 0.01110, saving model to ./models/simple_cnn_autoencoder.hdf5\n",
      "37500/37500 [==============================] - 98s - loss: 0.0111 - acc: 0.3404 - mean_squared_error: 0.0111 - val_loss: 0.0107 - val_acc: 0.3467 - val_mean_squared_error: 0.0107\n",
      "Epoch 5/50\n",
      "37480/37500 [============================>.] - ETA: 0s - loss: 0.0108 - acc: 0.3427 - mean_squared_error: 0.0108Epoch 00004: loss improved from 0.01110 to 0.01078, saving model to ./models/simple_cnn_autoencoder.hdf5\n",
      "37500/37500 [==============================] - 98s - loss: 0.0108 - acc: 0.3427 - mean_squared_error: 0.0108 - val_loss: 0.0107 - val_acc: 0.3442 - val_mean_squared_error: 0.0107\n",
      "Epoch 6/50\n",
      "37480/37500 [============================>.] - ETA: 0s - loss: 0.0106 - acc: 0.3452 - mean_squared_error: 0.0106Epoch 00005: loss improved from 0.01078 to 0.01064, saving model to ./models/simple_cnn_autoencoder.hdf5\n",
      "37500/37500 [==============================] - 98s - loss: 0.0106 - acc: 0.3451 - mean_squared_error: 0.0106 - val_loss: 0.0103 - val_acc: 0.3267 - val_mean_squared_error: 0.0103\n",
      "Epoch 7/50\n",
      "37480/37500 [============================>.] - ETA: 0s - loss: 0.0105 - acc: 0.3441 - mean_squared_error: 0.0105Epoch 00006: loss improved from 0.01064 to 0.01048, saving model to ./models/simple_cnn_autoencoder.hdf5\n",
      "37500/37500 [==============================] - 98s - loss: 0.0105 - acc: 0.3441 - mean_squared_error: 0.0105 - val_loss: 0.0101 - val_acc: 0.3258 - val_mean_squared_error: 0.0101\n",
      "Epoch 8/50\n",
      "37480/37500 [============================>.] - ETA: 0s - loss: 0.0103 - acc: 0.3433 - mean_squared_error: 0.0103Epoch 00007: loss improved from 0.01048 to 0.01031, saving model to ./models/simple_cnn_autoencoder.hdf5\n",
      "37500/37500 [==============================] - 99s - loss: 0.0103 - acc: 0.3434 - mean_squared_error: 0.0103 - val_loss: 0.0101 - val_acc: 0.3501 - val_mean_squared_error: 0.0101\n",
      "Epoch 9/50\n",
      "37480/37500 [============================>.] - ETA: 0s - loss: 0.0103 - acc: 0.3439 - mean_squared_error: 0.0103Epoch 00008: loss improved from 0.01031 to 0.01025, saving model to ./models/simple_cnn_autoencoder.hdf5\n",
      "37500/37500 [==============================] - 99s - loss: 0.0103 - acc: 0.3439 - mean_squared_error: 0.0103 - val_loss: 0.0099 - val_acc: 0.3402 - val_mean_squared_error: 0.0099\n",
      "Epoch 10/50\n",
      "37480/37500 [============================>.] - ETA: 0s - loss: 0.0102 - acc: 0.3465 - mean_squared_error: 0.0102Epoch 00009: loss improved from 0.01025 to 0.01022, saving model to ./models/simple_cnn_autoencoder.hdf5\n",
      "37500/37500 [==============================] - 99s - loss: 0.0102 - acc: 0.3465 - mean_squared_error: 0.0102 - val_loss: 0.0099 - val_acc: 0.3460 - val_mean_squared_error: 0.0099\n",
      "Epoch 11/50\n",
      "37480/37500 [============================>.] - ETA: 0s - loss: 0.0101 - acc: 0.3480 - mean_squared_error: 0.0101Epoch 00010: loss improved from 0.01022 to 0.01013, saving model to ./models/simple_cnn_autoencoder.hdf5\n",
      "37500/37500 [==============================] - 99s - loss: 0.0101 - acc: 0.3480 - mean_squared_error: 0.0101 - val_loss: 0.0102 - val_acc: 0.3497 - val_mean_squared_error: 0.0102\n",
      "Epoch 12/50\n",
      "37460/37500 [============================>.] - ETA: 0s - loss: 0.0101 - acc: 0.3471 - mean_squared_error: 0.0101Epoch 00011: loss improved from 0.01013 to 0.01010, saving model to ./models/simple_cnn_autoencoder.hdf5\n",
      "37500/37500 [==============================] - 98s - loss: 0.0101 - acc: 0.3471 - mean_squared_error: 0.0101 - val_loss: 0.0109 - val_acc: 0.3532 - val_mean_squared_error: 0.0109\n",
      "Epoch 13/50\n",
      "37480/37500 [============================>.] - ETA: 0s - loss: 0.0101 - acc: 0.3464 - mean_squared_error: 0.0101Epoch 00012: loss improved from 0.01010 to 0.01007, saving model to ./models/simple_cnn_autoencoder.hdf5\n",
      "37500/37500 [==============================] - 98s - loss: 0.0101 - acc: 0.3464 - mean_squared_error: 0.0101 - val_loss: 0.0102 - val_acc: 0.3626 - val_mean_squared_error: 0.0102\n",
      "Epoch 14/50\n",
      "37480/37500 [============================>.] - ETA: 0s - loss: 0.0100 - acc: 0.3466 - mean_squared_error: 0.0100Epoch 00013: loss improved from 0.01007 to 0.01003, saving model to ./models/simple_cnn_autoencoder.hdf5\n",
      "37500/37500 [==============================] - 98s - loss: 0.0100 - acc: 0.3466 - mean_squared_error: 0.0100 - val_loss: 0.0099 - val_acc: 0.3533 - val_mean_squared_error: 0.0099\n",
      "Epoch 15/50\n",
      "37460/37500 [============================>.] - ETA: 0s - loss: 0.0100 - acc: 0.3460 - mean_squared_error: 0.0100Epoch 00014: loss improved from 0.01003 to 0.00998, saving model to ./models/simple_cnn_autoencoder.hdf5\n",
      "37500/37500 [==============================] - 98s - loss: 0.0100 - acc: 0.3460 - mean_squared_error: 0.0100 - val_loss: 0.0105 - val_acc: 0.3376 - val_mean_squared_error: 0.0105\n",
      "Epoch 16/50\n",
      "37460/37500 [============================>.] - ETA: 0s - loss: 0.0099 - acc: 0.3423 - mean_squared_error: 0.0099Epoch 00015: loss improved from 0.00998 to 0.00993, saving model to ./models/simple_cnn_autoencoder.hdf5\n",
      "37500/37500 [==============================] - 98s - loss: 0.0099 - acc: 0.3423 - mean_squared_error: 0.0099 - val_loss: 0.0098 - val_acc: 0.3488 - val_mean_squared_error: 0.0098\n",
      "Epoch 17/50\n",
      "37480/37500 [============================>.] - ETA: 0s - loss: 0.0099 - acc: 0.3368 - mean_squared_error: 0.0099Epoch 00016: loss improved from 0.00993 to 0.00992, saving model to ./models/simple_cnn_autoencoder.hdf5\n",
      "37500/37500 [==============================] - 98s - loss: 0.0099 - acc: 0.3368 - mean_squared_error: 0.0099 - val_loss: 0.0099 - val_acc: 0.3452 - val_mean_squared_error: 0.0099\n",
      "Epoch 18/50\n",
      "37480/37500 [============================>.] - ETA: 0s - loss: 0.0099 - acc: 0.3318 - mean_squared_error: 0.0099Epoch 00017: loss improved from 0.00992 to 0.00990, saving model to ./models/simple_cnn_autoencoder.hdf5\n",
      "37500/37500 [==============================] - 99s - loss: 0.0099 - acc: 0.3318 - mean_squared_error: 0.0099 - val_loss: 0.0099 - val_acc: 0.3281 - val_mean_squared_error: 0.0099\n",
      "Epoch 19/50\n",
      "37480/37500 [============================>.] - ETA: 0s - loss: 0.0099 - acc: 0.3294 - mean_squared_error: 0.0099Epoch 00018: loss improved from 0.00990 to 0.00986, saving model to ./models/simple_cnn_autoencoder.hdf5\n",
      "37500/37500 [==============================] - 98s - loss: 0.0099 - acc: 0.3294 - mean_squared_error: 0.0099 - val_loss: 0.0097 - val_acc: 0.3256 - val_mean_squared_error: 0.0097\n",
      "Epoch 20/50\n",
      "37460/37500 [============================>.] - ETA: 0s - loss: 0.0099 - acc: 0.3310 - mean_squared_error: 0.0099Epoch 00019: loss did not improve\n",
      "37500/37500 [==============================] - 98s - loss: 0.0099 - acc: 0.3310 - mean_squared_error: 0.0099 - val_loss: 0.0098 - val_acc: 0.3353 - val_mean_squared_error: 0.0098\n",
      "Epoch 21/50\n",
      "37480/37500 [============================>.] - ETA: 0s - loss: 0.0098 - acc: 0.3319 - mean_squared_error: 0.0098Epoch 00020: loss improved from 0.00986 to 0.00985, saving model to ./models/simple_cnn_autoencoder.hdf5\n",
      "37500/37500 [==============================] - 97s - loss: 0.0098 - acc: 0.3319 - mean_squared_error: 0.0098 - val_loss: 0.0098 - val_acc: 0.3259 - val_mean_squared_error: 0.0098\n",
      "Epoch 22/50\n",
      "37480/37500 [============================>.] - ETA: 0s - loss: 0.0098 - acc: 0.3333 - mean_squared_error: 0.0098Epoch 00021: loss improved from 0.00985 to 0.00981, saving model to ./models/simple_cnn_autoencoder.hdf5\n",
      "37500/37500 [==============================] - 97s - loss: 0.0098 - acc: 0.3333 - mean_squared_error: 0.0098 - val_loss: 0.0097 - val_acc: 0.3210 - val_mean_squared_error: 0.0097\n",
      "Epoch 23/50\n",
      "37460/37500 [============================>.] - ETA: 0s - loss: 0.0098 - acc: 0.3363 - mean_squared_error: 0.0098Epoch 00022: loss improved from 0.00981 to 0.00980, saving model to ./models/simple_cnn_autoencoder.hdf5\n",
      "37500/37500 [==============================] - 98s - loss: 0.0098 - acc: 0.3363 - mean_squared_error: 0.0098 - val_loss: 0.0097 - val_acc: 0.3283 - val_mean_squared_error: 0.0097\n",
      "Epoch 24/50\n",
      "37480/37500 [============================>.] - ETA: 0s - loss: 0.0098 - acc: 0.3398 - mean_squared_error: 0.0098Epoch 00023: loss improved from 0.00980 to 0.00977, saving model to ./models/simple_cnn_autoencoder.hdf5\n",
      "37500/37500 [==============================] - 98s - loss: 0.0098 - acc: 0.3398 - mean_squared_error: 0.0098 - val_loss: 0.0098 - val_acc: 0.3524 - val_mean_squared_error: 0.0098\n",
      "Epoch 25/50\n",
      "37480/37500 [============================>.] - ETA: 0s - loss: 0.0097 - acc: 0.3429 - mean_squared_error: 0.0097Epoch 00024: loss improved from 0.00977 to 0.00975, saving model to ./models/simple_cnn_autoencoder.hdf5\n",
      "37500/37500 [==============================] - 98s - loss: 0.0097 - acc: 0.3429 - mean_squared_error: 0.0097 - val_loss: 0.0097 - val_acc: 0.3508 - val_mean_squared_error: 0.0097\n",
      "Epoch 26/50\n",
      "37460/37500 [============================>.] - ETA: 0s - loss: 0.0097 - acc: 0.3471 - mean_squared_error: 0.0097Epoch 00025: loss improved from 0.00975 to 0.00974, saving model to ./models/simple_cnn_autoencoder.hdf5\n",
      "37500/37500 [==============================] - 98s - loss: 0.0097 - acc: 0.3471 - mean_squared_error: 0.0097 - val_loss: 0.0099 - val_acc: 0.3531 - val_mean_squared_error: 0.0099\n",
      "Epoch 27/50\n",
      "37480/37500 [============================>.] - ETA: 0s - loss: 0.0098 - acc: 0.3521 - mean_squared_error: 0.0098Epoch 00026: loss did not improve\n",
      "37500/37500 [==============================] - 98s - loss: 0.0098 - acc: 0.3521 - mean_squared_error: 0.0098 - val_loss: 0.0097 - val_acc: 0.3495 - val_mean_squared_error: 0.0097\n",
      "Epoch 28/50\n",
      "37460/37500 [============================>.] - ETA: 0s - loss: 0.0097 - acc: 0.3577 - mean_squared_error: 0.0097Epoch 00027: loss improved from 0.00974 to 0.00970, saving model to ./models/simple_cnn_autoencoder.hdf5\n",
      "37500/37500 [==============================] - 98s - loss: 0.0097 - acc: 0.3577 - mean_squared_error: 0.0097 - val_loss: 0.0096 - val_acc: 0.3582 - val_mean_squared_error: 0.0096\n",
      "Epoch 29/50\n",
      "37480/37500 [============================>.] - ETA: 0s - loss: 0.0097 - acc: 0.3631 - mean_squared_error: 0.0097Epoch 00028: loss improved from 0.00970 to 0.00970, saving model to ./models/simple_cnn_autoencoder.hdf5\n",
      "37500/37500 [==============================] - 98s - loss: 0.0097 - acc: 0.3631 - mean_squared_error: 0.0097 - val_loss: 0.0100 - val_acc: 0.3653 - val_mean_squared_error: 0.0100\n",
      "Epoch 30/50\n",
      "37460/37500 [============================>.] - ETA: 0s - loss: 0.0097 - acc: 0.3677 - mean_squared_error: 0.0097Epoch 00029: loss improved from 0.00970 to 0.00968, saving model to ./models/simple_cnn_autoencoder.hdf5\n",
      "37500/37500 [==============================] - 98s - loss: 0.0097 - acc: 0.3677 - mean_squared_error: 0.0097 - val_loss: 0.0100 - val_acc: 0.3720 - val_mean_squared_error: 0.0100\n",
      "Epoch 31/50\n",
      "37460/37500 [============================>.] - ETA: 0s - loss: 0.0097 - acc: 0.3742 - mean_squared_error: 0.0097Epoch 00030: loss improved from 0.00968 to 0.00966, saving model to ./models/simple_cnn_autoencoder.hdf5\n",
      "37500/37500 [==============================] - 101s - loss: 0.0097 - acc: 0.3742 - mean_squared_error: 0.0097 - val_loss: 0.0098 - val_acc: 0.3779 - val_mean_squared_error: 0.0098\n",
      "Epoch 32/50\n",
      "37480/37500 [============================>.] - ETA: 0s - loss: 0.0097 - acc: 0.3803 - mean_squared_error: 0.0097Epoch 00031: loss improved from 0.00966 to 0.00966, saving model to ./models/simple_cnn_autoencoder.hdf5\n",
      "37500/37500 [==============================] - 95s - loss: 0.0097 - acc: 0.3803 - mean_squared_error: 0.0097 - val_loss: 0.0112 - val_acc: 0.3772 - val_mean_squared_error: 0.0112\n",
      "Epoch 33/50\n",
      "37460/37500 [============================>.] - ETA: 0s - loss: 0.0096 - acc: 0.3853 - mean_squared_error: 0.0096Epoch 00032: loss improved from 0.00966 to 0.00964, saving model to ./models/simple_cnn_autoencoder.hdf5\n",
      "37500/37500 [==============================] - 95s - loss: 0.0096 - acc: 0.3853 - mean_squared_error: 0.0096 - val_loss: 0.0097 - val_acc: 0.3920 - val_mean_squared_error: 0.0097\n",
      "Epoch 34/50\n",
      "37460/37500 [============================>.] - ETA: 0s - loss: 0.0096 - acc: 0.3899 - mean_squared_error: 0.0096Epoch 00033: loss did not improve\n",
      "37500/37500 [==============================] - 95s - loss: 0.0096 - acc: 0.3900 - mean_squared_error: 0.0096 - val_loss: 0.0097 - val_acc: 0.3966 - val_mean_squared_error: 0.0097\n",
      "Epoch 35/50\n",
      "37460/37500 [============================>.] - ETA: 0s - loss: 0.0096 - acc: 0.3948 - mean_squared_error: 0.0096Epoch 00034: loss improved from 0.00964 to 0.00960, saving model to ./models/simple_cnn_autoencoder.hdf5\n",
      "37500/37500 [==============================] - 95s - loss: 0.0096 - acc: 0.3948 - mean_squared_error: 0.0096 - val_loss: 0.0101 - val_acc: 0.4007 - val_mean_squared_error: 0.0101\n",
      "Epoch 36/50\n",
      "37480/37500 [============================>.] - ETA: 0s - loss: 0.0096 - acc: 0.3998 - mean_squared_error: 0.0096Epoch 00035: loss improved from 0.00960 to 0.00959, saving model to ./models/simple_cnn_autoencoder.hdf5\n",
      "37500/37500 [==============================] - 95s - loss: 0.0096 - acc: 0.3998 - mean_squared_error: 0.0096 - val_loss: 0.0098 - val_acc: 0.3962 - val_mean_squared_error: 0.0098\n",
      "Epoch 37/50\n",
      "37480/37500 [============================>.] - ETA: 0s - loss: 0.0096 - acc: 0.4027 - mean_squared_error: 0.0096Epoch 00036: loss did not improve\n",
      "37500/37500 [==============================] - 96s - loss: 0.0096 - acc: 0.4027 - mean_squared_error: 0.0096 - val_loss: 0.0097 - val_acc: 0.4095 - val_mean_squared_error: 0.0097\n",
      "Epoch 38/50\n",
      "37480/37500 [============================>.] - ETA: 0s - loss: 0.0096 - acc: 0.4078 - mean_squared_error: 0.0096Epoch 00037: loss did not improve\n",
      "37500/37500 [==============================] - 95s - loss: 0.0096 - acc: 0.4078 - mean_squared_error: 0.0096 - val_loss: 0.0097 - val_acc: 0.4092 - val_mean_squared_error: 0.0097\n",
      "Epoch 39/50\n",
      "37460/37500 [============================>.] - ETA: 0s - loss: 0.0096 - acc: 0.4108 - mean_squared_error: 0.0096Epoch 00038: loss improved from 0.00959 to 0.00957, saving model to ./models/simple_cnn_autoencoder.hdf5\n",
      "37500/37500 [==============================] - 95s - loss: 0.0096 - acc: 0.4108 - mean_squared_error: 0.0096 - val_loss: 0.0103 - val_acc: 0.4118 - val_mean_squared_error: 0.0103\n",
      "Epoch 40/50\n",
      "37480/37500 [============================>.] - ETA: 0s - loss: 0.0096 - acc: 0.4151 - mean_squared_error: 0.0096Epoch 00039: loss did not improve\n",
      "37500/37500 [==============================] - 95s - loss: 0.0096 - acc: 0.4151 - mean_squared_error: 0.0096 - val_loss: 0.0098 - val_acc: 0.4161 - val_mean_squared_error: 0.0098\n",
      "Epoch 41/50\n",
      "37480/37500 [============================>.] - ETA: 0s - loss: 0.0095 - acc: 0.4177 - mean_squared_error: 0.0095Epoch 00040: loss improved from 0.00957 to 0.00952, saving model to ./models/simple_cnn_autoencoder.hdf5\n"
     ]
    },
    {
     "name": "stdout",
     "output_type": "stream",
     "text": [
      "37500/37500 [==============================] - 95s - loss: 0.0095 - acc: 0.4177 - mean_squared_error: 0.0095 - val_loss: 0.0098 - val_acc: 0.4248 - val_mean_squared_error: 0.0098\n",
      "Epoch 42/50\n",
      "37480/37500 [============================>.] - ETA: 0s - loss: 0.0095 - acc: 0.4200 - mean_squared_error: 0.0095Epoch 00041: loss did not improve\n",
      "37500/37500 [==============================] - 95s - loss: 0.0095 - acc: 0.4200 - mean_squared_error: 0.0095 - val_loss: 0.0100 - val_acc: 0.4206 - val_mean_squared_error: 0.0100\n",
      "Epoch 43/50\n",
      "37480/37500 [============================>.] - ETA: 0s - loss: 0.0095 - acc: 0.4225 - mean_squared_error: 0.0095Epoch 00042: loss did not improve\n",
      "37500/37500 [==============================] - 95s - loss: 0.0095 - acc: 0.4225 - mean_squared_error: 0.0095 - val_loss: 0.0099 - val_acc: 0.4124 - val_mean_squared_error: 0.0099\n",
      "Epoch 44/50\n",
      "37460/37500 [============================>.] - ETA: 0s - loss: 0.0096 - acc: 0.4259 - mean_squared_error: 0.0096Epoch 00043: loss did not improve\n",
      "37500/37500 [==============================] - 95s - loss: 0.0096 - acc: 0.4259 - mean_squared_error: 0.0096 - val_loss: 0.0098 - val_acc: 0.4356 - val_mean_squared_error: 0.0098\n",
      "Epoch 45/50\n",
      "37460/37500 [============================>.] - ETA: 0s - loss: 0.0095 - acc: 0.4266 - mean_squared_error: 0.0095Epoch 00044: loss improved from 0.00952 to 0.00950, saving model to ./models/simple_cnn_autoencoder.hdf5\n",
      "37500/37500 [==============================] - 95s - loss: 0.0095 - acc: 0.4266 - mean_squared_error: 0.0095 - val_loss: 0.0106 - val_acc: 0.4255 - val_mean_squared_error: 0.0106\n",
      "Epoch 46/50\n",
      "37460/37500 [============================>.] - ETA: 0s - loss: 0.0095 - acc: 0.4282 - mean_squared_error: 0.0095Epoch 00045: loss improved from 0.00950 to 0.00946, saving model to ./models/simple_cnn_autoencoder.hdf5\n",
      "37500/37500 [==============================] - 95s - loss: 0.0095 - acc: 0.4282 - mean_squared_error: 0.0095 - val_loss: 0.0097 - val_acc: 0.4308 - val_mean_squared_error: 0.0097\n",
      "Epoch 47/50\n",
      "37480/37500 [============================>.] - ETA: 0s - loss: 0.0095 - acc: 0.4302 - mean_squared_error: 0.0095Epoch 00046: loss did not improve\n",
      "37500/37500 [==============================] - 95s - loss: 0.0095 - acc: 0.4302 - mean_squared_error: 0.0095 - val_loss: 0.0096 - val_acc: 0.4386 - val_mean_squared_error: 0.0096\n",
      "Epoch 48/50\n",
      "37460/37500 [============================>.] - ETA: 0s - loss: 0.0095 - acc: 0.4317 - mean_squared_error: 0.0095Epoch 00047: loss did not improve\n",
      "37500/37500 [==============================] - 95s - loss: 0.0095 - acc: 0.4317 - mean_squared_error: 0.0095 - val_loss: 0.0098 - val_acc: 0.4264 - val_mean_squared_error: 0.0098\n",
      "Epoch 49/50\n",
      "37460/37500 [============================>.] - ETA: 0s - loss: 0.0095 - acc: 0.4330 - mean_squared_error: 0.0095Epoch 00048: loss did not improve\n",
      "37500/37500 [==============================] - 95s - loss: 0.0095 - acc: 0.4330 - mean_squared_error: 0.0095 - val_loss: 0.0098 - val_acc: 0.4255 - val_mean_squared_error: 0.0098\n",
      "Epoch 50/50\n",
      "37460/37500 [============================>.] - ETA: 0s - loss: 0.0095 - acc: 0.4343 - mean_squared_error: 0.0095Epoch 00049: loss did not improve\n",
      "37500/37500 [==============================] - 95s - loss: 0.0095 - acc: 0.4343 - mean_squared_error: 0.0095 - val_loss: 0.0097 - val_acc: 0.4412 - val_mean_squared_error: 0.0097\n"
     ]
    },
    {
     "data": {
      "text/plain": [
       "<keras.callbacks.History at 0x7f9598691f10>"
      ]
     },
     "execution_count": 41,
     "metadata": {},
     "output_type": "execute_result"
    }
   ],
   "source": [
    "autoencoder.fit(x_train_noisy, x_train,\n",
    "                epochs=50,\n",
    "                batch_size=20,\n",
    "                shuffle=True,\n",
    "                validation_data=(x_test_noisy, x_test),\n",
    "                callbacks=[TensorBoard(log_dir='/tmp/autoencoder', histogram_freq=0, write_graph=True), model_checkpoint])"
   ]
  },
  {
   "cell_type": "code",
   "execution_count": 7,
   "metadata": {
    "collapsed": true
   },
   "outputs": [],
   "source": [
    "#Function to get saved keras model\n",
    "def read_model_json(jsonfilePath,h5filePath):\n",
    "    try:\n",
    "        json_file = open(jsonfilePath, 'r')\n",
    "        print json_file\n",
    "        loaded_model_json = json_file.read()\n",
    "        json_file.close()\n",
    "        print \"hello\"\n",
    "        loaded_model = model_from_json(loaded_model_json)\n",
    "         \n",
    "        # load weights into new model\n",
    "        loaded_model.load_weights(h5filePath)\n",
    "\n",
    "        return loaded_model\n",
    "    except:\n",
    "        return None"
   ]
  },
  {
   "cell_type": "code",
   "execution_count": 117,
   "metadata": {
    "collapsed": true
   },
   "outputs": [],
   "source": [
    "def get_gated_connections(gatePercentageFactor,inputLayer):\n",
    "    gateFactor = Input(tensor = K.variable([gatePercentageFactor]))\n",
    "    fractionG = Lambda(lambda x: x[0]*x[1])([inputLayer,gateFactor])\n",
    "    complement = Lambda(lambda x: x[0] - x[1])([inputLayer,fractionG])\n",
    "    \n",
    "    return gateFactor,fractionG,complement\n",
    "\n",
    "#x is conv layer\n",
    "#y is de-conv layer\n",
    "#gf is gating factor\n",
    "#fg is fractional input from gate\n",
    "#c is complement ie remaining fraction from the gate\n",
    "#jt joining tensor of convolution layer and previous de-conv layer \n",
    "\n",
    "def get_cnn_dsc_architecture(model_path=None):\n",
    "    \n",
    "    if(model_path is None):\n",
    "        sym_autoencoder = None\n",
    "    else:\n",
    "        sym_autoencoder = read_model_json(model_path[0],model_path[1])\n",
    "        print model_path[0],model_path[1]\n",
    "    if(sym_autoencoder is None):\n",
    "        input_img = Input(shape=(None,None,3))  # adapt this if using `channels_first` image data format\n",
    "        x1 = Conv2D(64, (4, 4), activation='relu', padding='same')(input_img)\n",
    "        gf1,fg1,c1 = get_gated_connections(0.1,x1)\n",
    "\n",
    "        x = MaxPooling2D((2, 2), padding='same')(fg1)\n",
    "        x2 = Conv2D(64, (4, 4), activation='relu', padding='same')(x) \n",
    "        gf2,fg2,c2 = get_gated_connections(0.2,x2)\n",
    "\n",
    "        x = MaxPooling2D((2, 2), padding='same')(fg2)\n",
    "        x3 = Conv2D(128, (4, 4), activation='relu', padding='same')(x) \n",
    "        gf3,fg3,c3 = get_gated_connections(0.3,x3)\n",
    "\n",
    "        x = MaxPooling2D((2, 2), padding='same')(x3)\n",
    "        x4 = Conv2D(256, (4, 4), activation='relu', padding='same')(x) \n",
    "        gf4,fg4,c4 = get_gated_connections(0.4,x4)\n",
    "\n",
    "        x = MaxPooling2D((2, 2), padding='same')(x4)\n",
    "        x5 = Conv2D(512, (4, 4), activation='relu', padding='same')(x) \n",
    "\n",
    "        x = UpSampling2D((2, 2))(x5)\n",
    "        y1 = Conv2DTranspose(256, (4, 4), activation='relu', padding='same')(x) \n",
    "        jt4 = Add()([y1,c4])\n",
    "        x = UpSampling2D((2, 2))(jt4)\n",
    "\n",
    "        y2 = Conv2DTranspose(128, (4, 4), activation='relu', padding='same')(x) \n",
    "        jt3 = Add()([y2,c3])\n",
    "        x = UpSampling2D((2, 2))(jt3)\n",
    "\n",
    "        y3 = Conv2DTranspose(64, (4, 4), activation='relu', padding='same')(x) \n",
    "        jt2 = Add()([y3,c2])\n",
    "        x = UpSampling2D((2, 2))(jt2)\n",
    "\n",
    "        jt1 = Add()([x,c1])\n",
    "        y4 = Conv2DTranspose(64, (4, 4), activation='relu', padding='same')(jt1)\n",
    "        y5 = Conv2DTranspose(3, (4, 4), activation='relu', padding='same')(y4) \n",
    "\n",
    "        layers = y5\n",
    "\n",
    "        sym_autoencoder = Model([input_img,gf1,gf2,gf3,gf4],layers)\n",
    "        sym_autoencoder.compile(optimizer='sgd', loss = 'mean_squared_error', metrics = ['accuracy','mean_squared_error'])\n",
    "        print \"Model created\"\n",
    "    else:\n",
    "        print \"Saved model loaded\"\n",
    "    print sym_autoencoder.summary()\n",
    "    return sym_autoencoder"
   ]
  },
  {
   "cell_type": "code",
   "execution_count": 118,
   "metadata": {
    "scrolled": true
   },
   "outputs": [
    {
     "name": "stdout",
     "output_type": "stream",
     "text": [
      "Model created\n",
      "____________________________________________________________________________________________________\n",
      "Layer (type)                     Output Shape          Param #     Connected to                     \n",
      "====================================================================================================\n",
      "input_4 (InputLayer)             (None, None, None, 3) 0                                            \n",
      "____________________________________________________________________________________________________\n",
      "conv2d_16 (Conv2D)               (None, None, None, 64 3136        input_4[0][0]                    \n",
      "____________________________________________________________________________________________________\n",
      "input_5 (InputLayer)             (1,)                  0                                            \n",
      "____________________________________________________________________________________________________\n",
      "lambda_1 (Lambda)                (None, None, None, 64 0           conv2d_16[0][0]                  \n",
      "                                                                   input_5[0][0]                    \n",
      "____________________________________________________________________________________________________\n",
      "max_pooling2d_7 (MaxPooling2D)   (None, None, None, 64 0           lambda_1[0][0]                   \n",
      "____________________________________________________________________________________________________\n",
      "conv2d_17 (Conv2D)               (None, None, None, 64 65600       max_pooling2d_7[0][0]            \n",
      "____________________________________________________________________________________________________\n",
      "input_6 (InputLayer)             (1,)                  0                                            \n",
      "____________________________________________________________________________________________________\n",
      "lambda_3 (Lambda)                (None, None, None, 64 0           conv2d_17[0][0]                  \n",
      "                                                                   input_6[0][0]                    \n",
      "____________________________________________________________________________________________________\n",
      "max_pooling2d_8 (MaxPooling2D)   (None, None, None, 64 0           lambda_3[0][0]                   \n",
      "____________________________________________________________________________________________________\n",
      "conv2d_18 (Conv2D)               (None, None, None, 12 131200      max_pooling2d_8[0][0]            \n",
      "____________________________________________________________________________________________________\n",
      "max_pooling2d_9 (MaxPooling2D)   (None, None, None, 12 0           conv2d_18[0][0]                  \n",
      "____________________________________________________________________________________________________\n",
      "conv2d_19 (Conv2D)               (None, None, None, 25 524544      max_pooling2d_9[0][0]            \n",
      "____________________________________________________________________________________________________\n",
      "max_pooling2d_10 (MaxPooling2D)  (None, None, None, 25 0           conv2d_19[0][0]                  \n",
      "____________________________________________________________________________________________________\n",
      "conv2d_20 (Conv2D)               (None, None, None, 51 2097664     max_pooling2d_10[0][0]           \n",
      "____________________________________________________________________________________________________\n",
      "input_8 (InputLayer)             (1,)                  0                                            \n",
      "____________________________________________________________________________________________________\n",
      "up_sampling2d_7 (UpSampling2D)   (None, None, None, 51 0           conv2d_20[0][0]                  \n",
      "____________________________________________________________________________________________________\n",
      "lambda_7 (Lambda)                (None, None, None, 25 0           conv2d_19[0][0]                  \n",
      "                                                                   input_8[0][0]                    \n",
      "____________________________________________________________________________________________________\n",
      "conv2d_transpose_1 (Conv2DTransp (None, None, None, 25 2097408     up_sampling2d_7[0][0]            \n",
      "____________________________________________________________________________________________________\n",
      "lambda_8 (Lambda)                (None, None, None, 25 0           conv2d_19[0][0]                  \n",
      "                                                                   lambda_7[0][0]                   \n",
      "____________________________________________________________________________________________________\n",
      "add_1 (Add)                      (None, None, None, 25 0           conv2d_transpose_1[0][0]         \n",
      "                                                                   lambda_8[0][0]                   \n",
      "____________________________________________________________________________________________________\n",
      "input_7 (InputLayer)             (1,)                  0                                            \n",
      "____________________________________________________________________________________________________\n",
      "up_sampling2d_8 (UpSampling2D)   (None, None, None, 25 0           add_1[0][0]                      \n",
      "____________________________________________________________________________________________________\n",
      "lambda_5 (Lambda)                (None, None, None, 12 0           conv2d_18[0][0]                  \n",
      "                                                                   input_7[0][0]                    \n",
      "____________________________________________________________________________________________________\n",
      "conv2d_transpose_2 (Conv2DTransp (None, None, None, 12 524416      up_sampling2d_8[0][0]            \n",
      "____________________________________________________________________________________________________\n",
      "lambda_6 (Lambda)                (None, None, None, 12 0           conv2d_18[0][0]                  \n",
      "                                                                   lambda_5[0][0]                   \n",
      "____________________________________________________________________________________________________\n",
      "add_2 (Add)                      (None, None, None, 12 0           conv2d_transpose_2[0][0]         \n",
      "                                                                   lambda_6[0][0]                   \n",
      "____________________________________________________________________________________________________\n",
      "up_sampling2d_9 (UpSampling2D)   (None, None, None, 12 0           add_2[0][0]                      \n",
      "____________________________________________________________________________________________________\n",
      "conv2d_transpose_3 (Conv2DTransp (None, None, None, 64 131136      up_sampling2d_9[0][0]            \n",
      "____________________________________________________________________________________________________\n",
      "lambda_4 (Lambda)                (None, None, None, 64 0           conv2d_17[0][0]                  \n",
      "                                                                   lambda_3[0][0]                   \n",
      "____________________________________________________________________________________________________\n",
      "add_3 (Add)                      (None, None, None, 64 0           conv2d_transpose_3[0][0]         \n",
      "                                                                   lambda_4[0][0]                   \n",
      "____________________________________________________________________________________________________\n",
      "up_sampling2d_10 (UpSampling2D)  (None, None, None, 64 0           add_3[0][0]                      \n",
      "____________________________________________________________________________________________________\n",
      "lambda_2 (Lambda)                (None, None, None, 64 0           conv2d_16[0][0]                  \n",
      "                                                                   lambda_1[0][0]                   \n",
      "____________________________________________________________________________________________________\n",
      "add_4 (Add)                      (None, None, None, 64 0           up_sampling2d_10[0][0]           \n",
      "                                                                   lambda_2[0][0]                   \n",
      "____________________________________________________________________________________________________\n",
      "conv2d_transpose_4 (Conv2DTransp (None, None, None, 64 65600       add_4[0][0]                      \n",
      "____________________________________________________________________________________________________\n",
      "conv2d_transpose_5 (Conv2DTransp (None, None, None, 3) 3075        conv2d_transpose_4[0][0]         \n",
      "====================================================================================================\n",
      "Total params: 5,643,779\n",
      "Trainable params: 5,643,779\n",
      "Non-trainable params: 0\n",
      "____________________________________________________________________________________________________\n",
      "None\n"
     ]
    }
   ],
   "source": [
    "sym_autoencoder = get_cnn_dsc_architecture()"
   ]
  },
  {
   "cell_type": "code",
   "execution_count": 119,
   "metadata": {
    "collapsed": true
   },
   "outputs": [],
   "source": [
    "model_checkpoint1 = ModelCheckpoint('./models/gated_cnn_autoencoder.hdf5',monitor = 'loss', verbose = 1,save_best_only=True)"
   ]
  },
  {
   "cell_type": "code",
   "execution_count": 121,
   "metadata": {
    "scrolled": true
   },
   "outputs": [
    {
     "name": "stdout",
     "output_type": "stream",
     "text": [
      "Train on 37500 samples, validate on 12500 samples\n",
      "Epoch 1/50\n",
      "37480/37500 [============================>.] - ETA: 0s - loss: 0.0095 - acc: 0.6346 - mean_squared_error: 0.0095Epoch 00000: loss improved from inf to 0.00949, saving model to ./models/gated_cnn_autoencoder.hdf5\n",
      "37500/37500 [==============================] - 453s - loss: 0.0095 - acc: 0.6346 - mean_squared_error: 0.0095 - val_loss: 0.0047 - val_acc: 0.6947 - val_mean_squared_error: 0.0047\n",
      "Epoch 2/50\n",
      "37480/37500 [============================>.] - ETA: 0s - loss: 0.0041 - acc: 0.7089 - mean_squared_error: 0.0041Epoch 00001: loss improved from 0.00949 to 0.00409, saving model to ./models/gated_cnn_autoencoder.hdf5\n",
      "37500/37500 [==============================] - 450s - loss: 0.0041 - acc: 0.7089 - mean_squared_error: 0.0041 - val_loss: 0.0037 - val_acc: 0.7193 - val_mean_squared_error: 0.0037\n",
      "Epoch 3/50\n",
      "37480/37500 [============================>.] - ETA: 0s - loss: 0.0035 - acc: 0.7274 - mean_squared_error: 0.0035Epoch 00002: loss improved from 0.00409 to 0.00353, saving model to ./models/gated_cnn_autoencoder.hdf5\n",
      "37500/37500 [==============================] - 450s - loss: 0.0035 - acc: 0.7274 - mean_squared_error: 0.0035 - val_loss: 0.0034 - val_acc: 0.7318 - val_mean_squared_error: 0.0034\n",
      "Epoch 4/50\n",
      "37480/37500 [============================>.] - ETA: 0s - loss: 0.0033 - acc: 0.7366 - mean_squared_error: 0.0033Epoch 00003: loss improved from 0.00353 to 0.00328, saving model to ./models/gated_cnn_autoencoder.hdf5\n",
      "37500/37500 [==============================] - 450s - loss: 0.0033 - acc: 0.7366 - mean_squared_error: 0.0033 - val_loss: 0.0032 - val_acc: 0.7400 - val_mean_squared_error: 0.0032\n",
      "Epoch 5/50\n",
      "37480/37500 [============================>.] - ETA: 0s - loss: 0.0031 - acc: 0.7428 - mean_squared_error: 0.0031Epoch 00004: loss improved from 0.00328 to 0.00312, saving model to ./models/gated_cnn_autoencoder.hdf5\n",
      "37500/37500 [==============================] - 450s - loss: 0.0031 - acc: 0.7428 - mean_squared_error: 0.0031 - val_loss: 0.0031 - val_acc: 0.7454 - val_mean_squared_error: 0.0031\n",
      "Epoch 6/50\n",
      "37480/37500 [============================>.] - ETA: 0s - loss: 0.0030 - acc: 0.7474 - mean_squared_error: 0.0030Epoch 00005: loss improved from 0.00312 to 0.00301, saving model to ./models/gated_cnn_autoencoder.hdf5\n",
      "37500/37500 [==============================] - 450s - loss: 0.0030 - acc: 0.7474 - mean_squared_error: 0.0030 - val_loss: 0.0030 - val_acc: 0.7493 - val_mean_squared_error: 0.0030\n",
      "Epoch 7/50\n",
      "37480/37500 [============================>.] - ETA: 0s - loss: 0.0029 - acc: 0.7509 - mean_squared_error: 0.0029Epoch 00006: loss improved from 0.00301 to 0.00292, saving model to ./models/gated_cnn_autoencoder.hdf5\n",
      "37500/37500 [==============================] - 450s - loss: 0.0029 - acc: 0.7508 - mean_squared_error: 0.0029 - val_loss: 0.0029 - val_acc: 0.7527 - val_mean_squared_error: 0.0029\n",
      "Epoch 8/50\n",
      "37480/37500 [============================>.] - ETA: 0s - loss: 0.0029 - acc: 0.7537 - mean_squared_error: 0.0029Epoch 00007: loss improved from 0.00292 to 0.00286, saving model to ./models/gated_cnn_autoencoder.hdf5\n",
      "37500/37500 [==============================] - 450s - loss: 0.0029 - acc: 0.7536 - mean_squared_error: 0.0029 - val_loss: 0.0028 - val_acc: 0.7526 - val_mean_squared_error: 0.0028\n",
      "Epoch 9/50\n",
      "37480/37500 [============================>.] - ETA: 0s - loss: 0.0028 - acc: 0.7558 - mean_squared_error: 0.0028Epoch 00008: loss improved from 0.00286 to 0.00280, saving model to ./models/gated_cnn_autoencoder.hdf5\n",
      "37500/37500 [==============================] - 450s - loss: 0.0028 - acc: 0.7558 - mean_squared_error: 0.0028 - val_loss: 0.0028 - val_acc: 0.7587 - val_mean_squared_error: 0.0028\n",
      "Epoch 10/50\n",
      "37480/37500 [============================>.] - ETA: 0s - loss: 0.0028 - acc: 0.7576 - mean_squared_error: 0.0028Epoch 00009: loss improved from 0.00280 to 0.00275, saving model to ./models/gated_cnn_autoencoder.hdf5\n",
      "37500/37500 [==============================] - 450s - loss: 0.0028 - acc: 0.7576 - mean_squared_error: 0.0028 - val_loss: 0.0027 - val_acc: 0.7594 - val_mean_squared_error: 0.0027\n",
      "Epoch 11/50\n",
      "37480/37500 [============================>.] - ETA: 0s - loss: 0.0027 - acc: 0.7591 - mean_squared_error: 0.0027Epoch 00010: loss improved from 0.00275 to 0.00271, saving model to ./models/gated_cnn_autoencoder.hdf5\n",
      "37500/37500 [==============================] - 463s - loss: 0.0027 - acc: 0.7591 - mean_squared_error: 0.0027 - val_loss: 0.0027 - val_acc: 0.7570 - val_mean_squared_error: 0.0027\n",
      "Epoch 12/50\n",
      "37480/37500 [============================>.] - ETA: 0s - loss: 0.0027 - acc: 0.7604 - mean_squared_error: 0.0027Epoch 00011: loss improved from 0.00271 to 0.00268, saving model to ./models/gated_cnn_autoencoder.hdf5\n",
      "37500/37500 [==============================] - 450s - loss: 0.0027 - acc: 0.7604 - mean_squared_error: 0.0027 - val_loss: 0.0027 - val_acc: 0.7628 - val_mean_squared_error: 0.0027\n",
      "Epoch 13/50\n",
      "37480/37500 [============================>.] - ETA: 0s - loss: 0.0026 - acc: 0.7615 - mean_squared_error: 0.0026Epoch 00012: loss improved from 0.00268 to 0.00265, saving model to ./models/gated_cnn_autoencoder.hdf5\n",
      "37500/37500 [==============================] - 450s - loss: 0.0026 - acc: 0.7615 - mean_squared_error: 0.0026 - val_loss: 0.0026 - val_acc: 0.7629 - val_mean_squared_error: 0.0026\n",
      "Epoch 14/50\n",
      "37480/37500 [============================>.] - ETA: 0s - loss: 0.0026 - acc: 0.7625 - mean_squared_error: 0.0026Epoch 00013: loss improved from 0.00265 to 0.00262, saving model to ./models/gated_cnn_autoencoder.hdf5\n",
      "37500/37500 [==============================] - 450s - loss: 0.0026 - acc: 0.7625 - mean_squared_error: 0.0026 - val_loss: 0.0026 - val_acc: 0.7625 - val_mean_squared_error: 0.0026\n",
      "Epoch 15/50\n",
      "37480/37500 [============================>.] - ETA: 0s - loss: 0.0026 - acc: 0.7635 - mean_squared_error: 0.0026Epoch 00014: loss improved from 0.00262 to 0.00260, saving model to ./models/gated_cnn_autoencoder.hdf5\n",
      "37500/37500 [==============================] - 450s - loss: 0.0026 - acc: 0.7634 - mean_squared_error: 0.0026 - val_loss: 0.0026 - val_acc: 0.7656 - val_mean_squared_error: 0.0026\n",
      "Epoch 16/50\n",
      "37480/37500 [============================>.] - ETA: 0s - loss: 0.0026 - acc: 0.7644 - mean_squared_error: 0.0026Epoch 00015: loss improved from 0.00260 to 0.00257, saving model to ./models/gated_cnn_autoencoder.hdf5\n",
      "37500/37500 [==============================] - 450s - loss: 0.0026 - acc: 0.7644 - mean_squared_error: 0.0026 - val_loss: 0.0026 - val_acc: 0.7660 - val_mean_squared_error: 0.0026\n",
      "Epoch 17/50\n",
      "37480/37500 [============================>.] - ETA: 0s - loss: 0.0026 - acc: 0.7650 - mean_squared_error: 0.0026Epoch 00016: loss improved from 0.00257 to 0.00255, saving model to ./models/gated_cnn_autoencoder.hdf5\n",
      "37500/37500 [==============================] - 450s - loss: 0.0026 - acc: 0.7650 - mean_squared_error: 0.0026 - val_loss: 0.0025 - val_acc: 0.7663 - val_mean_squared_error: 0.0025\n",
      "Epoch 18/50\n",
      "37480/37500 [============================>.] - ETA: 0s - loss: 0.0025 - acc: 0.7657 - mean_squared_error: 0.0025Epoch 00017: loss improved from 0.00255 to 0.00253, saving model to ./models/gated_cnn_autoencoder.hdf5\n",
      "37500/37500 [==============================] - 450s - loss: 0.0025 - acc: 0.7657 - mean_squared_error: 0.0025 - val_loss: 0.0025 - val_acc: 0.7671 - val_mean_squared_error: 0.0025\n",
      "Epoch 19/50\n",
      "37480/37500 [============================>.] - ETA: 0s - loss: 0.0025 - acc: 0.7664 - mean_squared_error: 0.0025Epoch 00018: loss improved from 0.00253 to 0.00251, saving model to ./models/gated_cnn_autoencoder.hdf5\n",
      "37500/37500 [==============================] - 450s - loss: 0.0025 - acc: 0.7663 - mean_squared_error: 0.0025 - val_loss: 0.0025 - val_acc: 0.7671 - val_mean_squared_error: 0.0025\n",
      "Epoch 20/50\n",
      "37480/37500 [============================>.] - ETA: 0s - loss: 0.0025 - acc: 0.7668 - mean_squared_error: 0.0025Epoch 00019: loss improved from 0.00251 to 0.00250, saving model to ./models/gated_cnn_autoencoder.hdf5\n",
      "37500/37500 [==============================] - 450s - loss: 0.0025 - acc: 0.7668 - mean_squared_error: 0.0025 - val_loss: 0.0025 - val_acc: 0.7689 - val_mean_squared_error: 0.0025\n",
      "Epoch 21/50\n",
      "37480/37500 [============================>.] - ETA: 0s - loss: 0.0025 - acc: 0.7674 - mean_squared_error: 0.0025Epoch 00020: loss improved from 0.00250 to 0.00248, saving model to ./models/gated_cnn_autoencoder.hdf5\n",
      "37500/37500 [==============================] - 448s - loss: 0.0025 - acc: 0.7674 - mean_squared_error: 0.0025 - val_loss: 0.0025 - val_acc: 0.7680 - val_mean_squared_error: 0.0025\n",
      "Epoch 22/50\n",
      "37480/37500 [============================>.] - ETA: 0s - loss: 0.0025 - acc: 0.7679 - mean_squared_error: 0.0025Epoch 00021: loss improved from 0.00248 to 0.00247, saving model to ./models/gated_cnn_autoencoder.hdf5\n",
      "37500/37500 [==============================] - 448s - loss: 0.0025 - acc: 0.7678 - mean_squared_error: 0.0025 - val_loss: 0.0025 - val_acc: 0.7701 - val_mean_squared_error: 0.0025\n",
      "Epoch 23/50\n",
      "37480/37500 [============================>.] - ETA: 0s - loss: 0.0025 - acc: 0.7683 - mean_squared_error: 0.0025Epoch 00022: loss improved from 0.00247 to 0.00245, saving model to ./models/gated_cnn_autoencoder.hdf5\n",
      "37500/37500 [==============================] - 448s - loss: 0.0025 - acc: 0.7683 - mean_squared_error: 0.0025 - val_loss: 0.0025 - val_acc: 0.7686 - val_mean_squared_error: 0.0025\n",
      "Epoch 24/50\n",
      "37480/37500 [============================>.] - ETA: 0s - loss: 0.0024 - acc: 0.7686 - mean_squared_error: 0.0024Epoch 00023: loss improved from 0.00245 to 0.00244, saving model to ./models/gated_cnn_autoencoder.hdf5\n",
      "37500/37500 [==============================] - 448s - loss: 0.0024 - acc: 0.7687 - mean_squared_error: 0.0024 - val_loss: 0.0024 - val_acc: 0.7662 - val_mean_squared_error: 0.0024\n",
      "Epoch 25/50\n",
      "37480/37500 [============================>.] - ETA: 0s - loss: 0.0024 - acc: 0.7690 - mean_squared_error: 0.0024Epoch 00024: loss improved from 0.00244 to 0.00243, saving model to ./models/gated_cnn_autoencoder.hdf5\n",
      "37500/37500 [==============================] - 448s - loss: 0.0024 - acc: 0.7690 - mean_squared_error: 0.0024 - val_loss: 0.0024 - val_acc: 0.7690 - val_mean_squared_error: 0.0024\n",
      "Epoch 26/50\n",
      "37480/37500 [============================>.] - ETA: 0s - loss: 0.0024 - acc: 0.7695 - mean_squared_error: 0.0024Epoch 00025: loss improved from 0.00243 to 0.00242, saving model to ./models/gated_cnn_autoencoder.hdf5\n",
      "37500/37500 [==============================] - 448s - loss: 0.0024 - acc: 0.7695 - mean_squared_error: 0.0024 - val_loss: 0.0024 - val_acc: 0.7718 - val_mean_squared_error: 0.0024\n",
      "Epoch 27/50\n",
      "37480/37500 [============================>.] - ETA: 0s - loss: 0.0024 - acc: 0.7698 - mean_squared_error: 0.0024Epoch 00026: loss improved from 0.00242 to 0.00241, saving model to ./models/gated_cnn_autoencoder.hdf5\n",
      "37500/37500 [==============================] - 448s - loss: 0.0024 - acc: 0.7698 - mean_squared_error: 0.0024 - val_loss: 0.0024 - val_acc: 0.7698 - val_mean_squared_error: 0.0024\n",
      "Epoch 28/50\n",
      "37480/37500 [============================>.] - ETA: 0s - loss: 0.0024 - acc: 0.7700 - mean_squared_error: 0.0024Epoch 00027: loss improved from 0.00241 to 0.00240, saving model to ./models/gated_cnn_autoencoder.hdf5\n",
      "37500/37500 [==============================] - 448s - loss: 0.0024 - acc: 0.7700 - mean_squared_error: 0.0024 - val_loss: 0.0024 - val_acc: 0.7708 - val_mean_squared_error: 0.0024\n",
      "Epoch 29/50\n",
      "37480/37500 [============================>.] - ETA: 0s - loss: 0.0024 - acc: 0.7704 - mean_squared_error: 0.0024Epoch 00028: loss improved from 0.00240 to 0.00239, saving model to ./models/gated_cnn_autoencoder.hdf5\n",
      "37500/37500 [==============================] - 448s - loss: 0.0024 - acc: 0.7704 - mean_squared_error: 0.0024 - val_loss: 0.0024 - val_acc: 0.7715 - val_mean_squared_error: 0.0024\n",
      "Epoch 30/50\n",
      "37480/37500 [============================>.] - ETA: 0s - loss: 0.0024 - acc: 0.7708 - mean_squared_error: 0.0024Epoch 00029: loss improved from 0.00239 to 0.00238, saving model to ./models/gated_cnn_autoencoder.hdf5\n",
      "37500/37500 [==============================] - 448s - loss: 0.0024 - acc: 0.7708 - mean_squared_error: 0.0024 - val_loss: 0.0024 - val_acc: 0.7700 - val_mean_squared_error: 0.0024\n",
      "Epoch 31/50\n",
      "37480/37500 [============================>.] - ETA: 0s - loss: 0.0024 - acc: 0.7710 - mean_squared_error: 0.0024Epoch 00030: loss improved from 0.00238 to 0.00237, saving model to ./models/gated_cnn_autoencoder.hdf5\n",
      "37500/37500 [==============================] - 448s - loss: 0.0024 - acc: 0.7710 - mean_squared_error: 0.0024 - val_loss: 0.0024 - val_acc: 0.7726 - val_mean_squared_error: 0.0024\n",
      "Epoch 32/50\n",
      "37480/37500 [============================>.] - ETA: 0s - loss: 0.0024 - acc: 0.7713 - mean_squared_error: 0.0024Epoch 00031: loss improved from 0.00237 to 0.00236, saving model to ./models/gated_cnn_autoencoder.hdf5\n",
      "37500/37500 [==============================] - 448s - loss: 0.0024 - acc: 0.7713 - mean_squared_error: 0.0024 - val_loss: 0.0024 - val_acc: 0.7725 - val_mean_squared_error: 0.0024\n",
      "Epoch 33/50\n",
      "37480/37500 [============================>.] - ETA: 0s - loss: 0.0024 - acc: 0.7716 - mean_squared_error: 0.0024Epoch 00032: loss improved from 0.00236 to 0.00235, saving model to ./models/gated_cnn_autoencoder.hdf5\n",
      "37500/37500 [==============================] - 448s - loss: 0.0024 - acc: 0.7716 - mean_squared_error: 0.0024 - val_loss: 0.0024 - val_acc: 0.7716 - val_mean_squared_error: 0.0024\n",
      "Epoch 34/50\n",
      "37480/37500 [============================>.] - ETA: 0s - loss: 0.0023 - acc: 0.7718 - mean_squared_error: 0.0023Epoch 00033: loss improved from 0.00235 to 0.00235, saving model to ./models/gated_cnn_autoencoder.hdf5\n",
      "37500/37500 [==============================] - 448s - loss: 0.0023 - acc: 0.7718 - mean_squared_error: 0.0023 - val_loss: 0.0023 - val_acc: 0.7742 - val_mean_squared_error: 0.0023\n",
      "Epoch 35/50\n",
      "37480/37500 [============================>.] - ETA: 0s - loss: 0.0023 - acc: 0.7720 - mean_squared_error: 0.0023Epoch 00034: loss improved from 0.00235 to 0.00234, saving model to ./models/gated_cnn_autoencoder.hdf5\n",
      "37500/37500 [==============================] - 448s - loss: 0.0023 - acc: 0.7720 - mean_squared_error: 0.0023 - val_loss: 0.0023 - val_acc: 0.7691 - val_mean_squared_error: 0.0023\n",
      "Epoch 36/50\n",
      "37480/37500 [============================>.] - ETA: 0s - loss: 0.0023 - acc: 0.7722 - mean_squared_error: 0.0023Epoch 00035: loss improved from 0.00234 to 0.00233, saving model to ./models/gated_cnn_autoencoder.hdf5\n",
      "37500/37500 [==============================] - 448s - loss: 0.0023 - acc: 0.7722 - mean_squared_error: 0.0023 - val_loss: 0.0023 - val_acc: 0.7717 - val_mean_squared_error: 0.0023\n",
      "Epoch 37/50\n",
      "37480/37500 [============================>.] - ETA: 0s - loss: 0.0023 - acc: 0.7724 - mean_squared_error: 0.0023Epoch 00036: loss improved from 0.00233 to 0.00232, saving model to ./models/gated_cnn_autoencoder.hdf5\n",
      "37500/37500 [==============================] - 448s - loss: 0.0023 - acc: 0.7724 - mean_squared_error: 0.0023 - val_loss: 0.0023 - val_acc: 0.7694 - val_mean_squared_error: 0.0023\n",
      "Epoch 38/50\n",
      "37480/37500 [============================>.] - ETA: 0s - loss: 0.0023 - acc: 0.7727 - mean_squared_error: 0.0023Epoch 00037: loss improved from 0.00232 to 0.00232, saving model to ./models/gated_cnn_autoencoder.hdf5\n",
      "37500/37500 [==============================] - 448s - loss: 0.0023 - acc: 0.7727 - mean_squared_error: 0.0023 - val_loss: 0.0023 - val_acc: 0.7733 - val_mean_squared_error: 0.0023\n",
      "Epoch 39/50\n",
      "37480/37500 [============================>.] - ETA: 0s - loss: 0.0023 - acc: 0.7729 - mean_squared_error: 0.0023Epoch 00038: loss improved from 0.00232 to 0.00231, saving model to ./models/gated_cnn_autoencoder.hdf5\n",
      "37500/37500 [==============================] - 448s - loss: 0.0023 - acc: 0.7729 - mean_squared_error: 0.0023 - val_loss: 0.0023 - val_acc: 0.7760 - val_mean_squared_error: 0.0023\n",
      "Epoch 40/50\n",
      "37480/37500 [============================>.] - ETA: 0s - loss: 0.0023 - acc: 0.7731 - mean_squared_error: 0.0023Epoch 00039: loss improved from 0.00231 to 0.00231, saving model to ./models/gated_cnn_autoencoder.hdf5\n"
     ]
    },
    {
     "name": "stdout",
     "output_type": "stream",
     "text": [
      "37500/37500 [==============================] - 448s - loss: 0.0023 - acc: 0.7731 - mean_squared_error: 0.0023 - val_loss: 0.0023 - val_acc: 0.7741 - val_mean_squared_error: 0.0023\n",
      "Epoch 41/50\n",
      "37480/37500 [============================>.] - ETA: 0s - loss: 0.0023 - acc: 0.7732 - mean_squared_error: 0.0023Epoch 00040: loss improved from 0.00231 to 0.00230, saving model to ./models/gated_cnn_autoencoder.hdf5\n",
      "37500/37500 [==============================] - 448s - loss: 0.0023 - acc: 0.7732 - mean_squared_error: 0.0023 - val_loss: 0.0023 - val_acc: 0.7738 - val_mean_squared_error: 0.0023\n",
      "Epoch 42/50\n",
      "37480/37500 [============================>.] - ETA: 0s - loss: 0.0023 - acc: 0.7734 - mean_squared_error: 0.0023Epoch 00041: loss improved from 0.00230 to 0.00229, saving model to ./models/gated_cnn_autoencoder.hdf5\n",
      "37500/37500 [==============================] - 448s - loss: 0.0023 - acc: 0.7735 - mean_squared_error: 0.0023 - val_loss: 0.0023 - val_acc: 0.7752 - val_mean_squared_error: 0.0023\n",
      "Epoch 43/50\n",
      "37480/37500 [============================>.] - ETA: 0s - loss: 0.0023 - acc: 0.7736 - mean_squared_error: 0.0023Epoch 00042: loss improved from 0.00229 to 0.00229, saving model to ./models/gated_cnn_autoencoder.hdf5\n",
      "37500/37500 [==============================] - 448s - loss: 0.0023 - acc: 0.7736 - mean_squared_error: 0.0023 - val_loss: 0.0023 - val_acc: 0.7743 - val_mean_squared_error: 0.0023\n",
      "Epoch 44/50\n",
      "37480/37500 [============================>.] - ETA: 0s - loss: 0.0023 - acc: 0.7738 - mean_squared_error: 0.0023Epoch 00043: loss improved from 0.00229 to 0.00228, saving model to ./models/gated_cnn_autoencoder.hdf5\n",
      "37500/37500 [==============================] - 448s - loss: 0.0023 - acc: 0.7738 - mean_squared_error: 0.0023 - val_loss: 0.0023 - val_acc: 0.7743 - val_mean_squared_error: 0.0023\n",
      "Epoch 45/50\n",
      "37480/37500 [============================>.] - ETA: 0s - loss: 0.0023 - acc: 0.7740 - mean_squared_error: 0.0023Epoch 00044: loss improved from 0.00228 to 0.00228, saving model to ./models/gated_cnn_autoencoder.hdf5\n",
      "37500/37500 [==============================] - 448s - loss: 0.0023 - acc: 0.7740 - mean_squared_error: 0.0023 - val_loss: 0.0023 - val_acc: 0.7758 - val_mean_squared_error: 0.0023\n",
      "Epoch 46/50\n",
      "37480/37500 [============================>.] - ETA: 0s - loss: 0.0023 - acc: 0.7742 - mean_squared_error: 0.0023Epoch 00045: loss improved from 0.00228 to 0.00227, saving model to ./models/gated_cnn_autoencoder.hdf5\n",
      "37500/37500 [==============================] - 448s - loss: 0.0023 - acc: 0.7742 - mean_squared_error: 0.0023 - val_loss: 0.0023 - val_acc: 0.7754 - val_mean_squared_error: 0.0023\n",
      "Epoch 47/50\n",
      "37480/37500 [============================>.] - ETA: 0s - loss: 0.0023 - acc: 0.7744 - mean_squared_error: 0.0023Epoch 00046: loss improved from 0.00227 to 0.00227, saving model to ./models/gated_cnn_autoencoder.hdf5\n",
      "37500/37500 [==============================] - 448s - loss: 0.0023 - acc: 0.7744 - mean_squared_error: 0.0023 - val_loss: 0.0023 - val_acc: 0.7769 - val_mean_squared_error: 0.0023\n",
      "Epoch 48/50\n",
      "37480/37500 [============================>.] - ETA: 0s - loss: 0.0023 - acc: 0.7745 - mean_squared_error: 0.0023Epoch 00047: loss improved from 0.00227 to 0.00226, saving model to ./models/gated_cnn_autoencoder.hdf5\n",
      "37500/37500 [==============================] - 448s - loss: 0.0023 - acc: 0.7745 - mean_squared_error: 0.0023 - val_loss: 0.0023 - val_acc: 0.7758 - val_mean_squared_error: 0.0023\n",
      "Epoch 49/50\n",
      "37480/37500 [============================>.] - ETA: 0s - loss: 0.0023 - acc: 0.7746 - mean_squared_error: 0.0023Epoch 00048: loss improved from 0.00226 to 0.00226, saving model to ./models/gated_cnn_autoencoder.hdf5\n",
      "37500/37500 [==============================] - 448s - loss: 0.0023 - acc: 0.7746 - mean_squared_error: 0.0023 - val_loss: 0.0023 - val_acc: 0.7744 - val_mean_squared_error: 0.0023\n",
      "Epoch 50/50\n",
      "37480/37500 [============================>.] - ETA: 0s - loss: 0.0023 - acc: 0.7748 - mean_squared_error: 0.0023Epoch 00049: loss improved from 0.00226 to 0.00226, saving model to ./models/gated_cnn_autoencoder.hdf5\n",
      "37500/37500 [==============================] - 448s - loss: 0.0023 - acc: 0.7748 - mean_squared_error: 0.0023 - val_loss: 0.0023 - val_acc: 0.7750 - val_mean_squared_error: 0.0023\n"
     ]
    },
    {
     "data": {
      "text/plain": [
       "<keras.callbacks.History at 0x7fe9282300d0>"
      ]
     },
     "execution_count": 121,
     "metadata": {},
     "output_type": "execute_result"
    }
   ],
   "source": [
    "sym_autoencoder.fit(x_train_noisy, x_train,\n",
    "                epochs=50,\n",
    "                batch_size=20,\n",
    "                shuffle=True,\n",
    "                validation_data=(x_test_noisy, x_test),\n",
    "                callbacks=[TensorBoard(log_dir='/tmp/gated_cnn_autoencoder', \n",
    "                                       histogram_freq=0,\n",
    "                                       write_graph=True),model_checkpoint1])"
   ]
  },
  {
   "cell_type": "code",
   "execution_count": 16,
   "metadata": {
    "collapsed": true
   },
   "outputs": [],
   "source": [
    "\n",
    "def get_psnr(imageA,imageB):\n",
    "    maxI = 255.\n",
    "    try:\n",
    "        return 20*math.log10(maxI) - 10*math.log10(compare_mse(imageA.flatten(),imageB.flatten()))\n",
    "    except:\n",
    "        return 20*math.log10(maxI)\n",
    "\n",
    "def get_psnr_result(x_test, out):\n",
    "    psnr_sum = 0\n",
    "    for i in range(out.shape[0]):\n",
    "        psnr_sum += compare_psnr(x_test[i].reshape(32,32,1),out[i].reshape(32,32,1),data_range=255)\n",
    "        \n",
    "    return 1.0*psnr_sum/out.shape[0];\n",
    "\n",
    "def get_ssim_result(originalSet,noisySet):\n",
    "    ssim_sum = 0\n",
    "    originalSet = originalSet.reshape(originalSet.shape[0],32,32,1)\n",
    "    noisySet = noisySet.reshape(noisySet.shape[0],32,32,1)\n",
    "    for i in range(originalSet.shape[0]):\n",
    "        ssim_sum += ssim(originalSet[i], noisySet[i],data_range=originalSet[i].max() - noisySet[i].min(), multichannel=True)\n",
    "    return 1.0*ssim_sum/originalSet.shape[0]"
   ]
  },
  {
   "cell_type": "code",
   "execution_count": 17,
   "metadata": {
    "collapsed": true
   },
   "outputs": [],
   "source": [
    "def bm3d_denoise(noisy_image):\n",
    "    noisy_image = noisy_image.reshape(noisy_image.shape[0],32,32)\n",
    "    denoised = []\n",
    "    count = 1\n",
    "    for i in range(noisy_image.shape[0]):\n",
    "        Basic_img = bm3d.BM3D_1st_step(noisy_image[i])\n",
    "        Final_img = bm3d.BM3D_2nd_step(Basic_img, noisy_image[i])\n",
    "        denoised.append(Final_img)\n",
    "        if (count%10 == 0):\n",
    "            print (str(count)+ \"images denoised\")\n",
    "        count+=1\n",
    "        \n",
    "    return np.array(denoised)\n",
    "\n",
    "def nlm_denoise(noisy_image):\n",
    "    noisy_image = noisy_image.reshape(noisy_image.shape[0],32,32,1)\n",
    "    denoised = []\n",
    "    count = 1\n",
    "    \n",
    "    for image in noisy_image:\n",
    "        denoised_image = denoise_nl_means(image, 7, 11, 0.5,multichannel = False)\n",
    "        denoised.append(denoised_image)\n",
    "        if(count%100 == 0) :\n",
    "            print(str(count)+\" images denoised\")\n",
    "        count+=1\n",
    "    return np.array(denoised)"
   ]
  },
  {
   "cell_type": "code",
   "execution_count": 134,
   "metadata": {},
   "outputs": [
    {
     "name": "stdout",
     "output_type": "stream",
     "text": [
      "((10000, 32, 32, 1), (10000, 32, 32, 1))\n",
      "458.092258419\n"
     ]
    },
    {
     "data": {
      "text/plain": [
       "22.066576979897317"
      ]
     },
     "execution_count": 134,
     "metadata": {},
     "output_type": "execute_result"
    }
   ],
   "source": [
    "print (test_images.shape,out_autoencoder.shape)\n",
    "print (compare_mse(test_images[0].flatten(),(out_autoencoder[0]*255.).flatten()))\n",
    "get_psnr_result(out_autoencoder*255.,test_images)"
   ]
  },
  {
   "cell_type": "code",
   "execution_count": 39,
   "metadata": {},
   "outputs": [
    {
     "ename": "NameError",
     "evalue": "name 'out_sym_autoencoder' is not defined",
     "output_type": "error",
     "traceback": [
      "\u001b[0;31m---------------------------------------------------------------------------\u001b[0m",
      "\u001b[0;31mNameError\u001b[0m                                 Traceback (most recent call last)",
      "\u001b[0;32m<ipython-input-39-c6ec004857a8>\u001b[0m in \u001b[0;36m<module>\u001b[0;34m()\u001b[0m\n\u001b[0;32m----> 1\u001b[0;31m \u001b[0;32mprint\u001b[0m \u001b[0;34m(\u001b[0m\u001b[0mtest_images\u001b[0m\u001b[0;34m.\u001b[0m\u001b[0mshape\u001b[0m\u001b[0;34m,\u001b[0m\u001b[0mout_sym_autoencoder\u001b[0m\u001b[0;34m.\u001b[0m\u001b[0mshape\u001b[0m\u001b[0;34m)\u001b[0m\u001b[0;34m\u001b[0m\u001b[0m\n\u001b[0m\u001b[1;32m      2\u001b[0m \u001b[0;32mprint\u001b[0m \u001b[0;34m(\u001b[0m\u001b[0mmean_squared_error\u001b[0m\u001b[0;34m(\u001b[0m\u001b[0mtest_images\u001b[0m\u001b[0;34m[\u001b[0m\u001b[0;36m0\u001b[0m\u001b[0;34m]\u001b[0m\u001b[0;34m.\u001b[0m\u001b[0mflatten\u001b[0m\u001b[0;34m(\u001b[0m\u001b[0;34m)\u001b[0m\u001b[0;34m,\u001b[0m\u001b[0mout_sym_autoencoder\u001b[0m\u001b[0;34m[\u001b[0m\u001b[0;36m0\u001b[0m\u001b[0;34m]\u001b[0m\u001b[0;34m.\u001b[0m\u001b[0mflatten\u001b[0m\u001b[0;34m(\u001b[0m\u001b[0;34m)\u001b[0m\u001b[0;34m)\u001b[0m\u001b[0;34m)\u001b[0m\u001b[0;34m\u001b[0m\u001b[0m\n\u001b[1;32m      3\u001b[0m \u001b[0mget_psnr_result\u001b[0m\u001b[0;34m(\u001b[0m\u001b[0mout_sym_autoencoder\u001b[0m\u001b[0;34m,\u001b[0m\u001b[0mtest_images\u001b[0m\u001b[0;34m)\u001b[0m\u001b[0;34m\u001b[0m\u001b[0m\n",
      "\u001b[0;31mNameError\u001b[0m: name 'out_sym_autoencoder' is not defined"
     ]
    }
   ],
   "source": [
    "print (test_images.shape,out_sym_autoencoder.shape)\n",
    "print (mean_squared_error(test_images[0].flatten(),out_sym_autoencoder[0].flatten()))\n",
    "get_psnr_result(out_sym_autoencoder,test_images)"
   ]
  },
  {
   "cell_type": "code",
   "execution_count": 39,
   "metadata": {
    "collapsed": true
   },
   "outputs": [],
   "source": [
    "import bm3d"
   ]
  },
  {
   "cell_type": "code",
   "execution_count": 40,
   "metadata": {
    "scrolled": true
   },
   "outputs": [
    {
     "ename": "error",
     "evalue": "/home/travis/miniconda/conda-bld/work/opencv-2.4.11/modules/core/src/dxt.cpp:2330: error: (-213) Odd-size DCT's are not implemented in function dct\n",
     "output_type": "error",
     "traceback": [
      "\u001b[0;31m---------------------------------------------------------------------------\u001b[0m",
      "\u001b[0;31merror\u001b[0m                                     Traceback (most recent call last)",
      "\u001b[0;32m<ipython-input-40-14100dc74e70>\u001b[0m in \u001b[0;36m<module>\u001b[0;34m()\u001b[0m\n\u001b[1;32m      1\u001b[0m \u001b[0mnoisy_test_images\u001b[0m\u001b[0;34m.\u001b[0m\u001b[0mshape\u001b[0m\u001b[0;34m\u001b[0m\u001b[0m\n\u001b[0;32m----> 2\u001b[0;31m \u001b[0mbm3d_out\u001b[0m \u001b[0;34m=\u001b[0m \u001b[0mbm3d_denoise\u001b[0m\u001b[0;34m(\u001b[0m\u001b[0mnoisy_test_images\u001b[0m\u001b[0;34m)\u001b[0m\u001b[0;34m\u001b[0m\u001b[0m\n\u001b[0m",
      "\u001b[0;32m<ipython-input-38-5e994559fb52>\u001b[0m in \u001b[0;36mbm3d_denoise\u001b[0;34m(noisy_image)\u001b[0m\n\u001b[1;32m      5\u001b[0m     \u001b[0mcount\u001b[0m \u001b[0;34m=\u001b[0m \u001b[0;36m1\u001b[0m\u001b[0;34m\u001b[0m\u001b[0m\n\u001b[1;32m      6\u001b[0m     \u001b[0;32mfor\u001b[0m \u001b[0mi\u001b[0m \u001b[0;32min\u001b[0m \u001b[0mrange\u001b[0m\u001b[0;34m(\u001b[0m\u001b[0mnoisy_image\u001b[0m\u001b[0;34m.\u001b[0m\u001b[0mshape\u001b[0m\u001b[0;34m[\u001b[0m\u001b[0;36m0\u001b[0m\u001b[0;34m]\u001b[0m\u001b[0;34m)\u001b[0m\u001b[0;34m:\u001b[0m\u001b[0;34m\u001b[0m\u001b[0m\n\u001b[0;32m----> 7\u001b[0;31m         \u001b[0mBasic_img\u001b[0m \u001b[0;34m=\u001b[0m \u001b[0mbm3d\u001b[0m\u001b[0;34m.\u001b[0m\u001b[0mBM3D_1st_step\u001b[0m\u001b[0;34m(\u001b[0m\u001b[0mnoisy_image\u001b[0m\u001b[0;34m[\u001b[0m\u001b[0mi\u001b[0m\u001b[0;34m]\u001b[0m\u001b[0;34m)\u001b[0m\u001b[0;34m\u001b[0m\u001b[0m\n\u001b[0m\u001b[1;32m      8\u001b[0m         \u001b[0mFinal_img\u001b[0m \u001b[0;34m=\u001b[0m \u001b[0mbm3d\u001b[0m\u001b[0;34m.\u001b[0m\u001b[0mBM3D_2nd_step\u001b[0m\u001b[0;34m(\u001b[0m\u001b[0mBasic_img\u001b[0m\u001b[0;34m,\u001b[0m \u001b[0mnoisy_image\u001b[0m\u001b[0;34m[\u001b[0m\u001b[0mi\u001b[0m\u001b[0;34m]\u001b[0m\u001b[0;34m)\u001b[0m\u001b[0;34m\u001b[0m\u001b[0m\n\u001b[1;32m      9\u001b[0m         \u001b[0mdenoised\u001b[0m\u001b[0;34m.\u001b[0m\u001b[0mappend\u001b[0m\u001b[0;34m(\u001b[0m\u001b[0mFinal_img\u001b[0m\u001b[0;34m)\u001b[0m\u001b[0;34m\u001b[0m\u001b[0m\n",
      "\u001b[0;32m/home/iplab/Image-Denoising-with-Convolutional-Denoising-Autoencoders/bm3d.pyc\u001b[0m in \u001b[0;36mBM3D_1st_step\u001b[0;34m(_noisyImg)\u001b[0m\n\u001b[1;32m    168\u001b[0m         \u001b[0;32mfor\u001b[0m \u001b[0mj\u001b[0m \u001b[0;32min\u001b[0m \u001b[0mrange\u001b[0m\u001b[0;34m(\u001b[0m\u001b[0mint\u001b[0m\u001b[0;34m(\u001b[0m\u001b[0mHeight_num\u001b[0m\u001b[0;34m)\u001b[0m\u001b[0;34m+\u001b[0m\u001b[0;36m2\u001b[0m\u001b[0;34m)\u001b[0m\u001b[0;34m:\u001b[0m\u001b[0;34m\u001b[0m\u001b[0m\n\u001b[1;32m    169\u001b[0m             \u001b[0mm_blockPoint\u001b[0m \u001b[0;34m=\u001b[0m \u001b[0mLocate_blk\u001b[0m\u001b[0;34m(\u001b[0m\u001b[0mi\u001b[0m\u001b[0;34m,\u001b[0m \u001b[0mj\u001b[0m\u001b[0;34m,\u001b[0m \u001b[0mblk_step\u001b[0m\u001b[0;34m,\u001b[0m \u001b[0mblock_Size\u001b[0m\u001b[0;34m,\u001b[0m \u001b[0mwidth\u001b[0m\u001b[0;34m,\u001b[0m \u001b[0mheight\u001b[0m\u001b[0;34m)\u001b[0m\u001b[0;34m\u001b[0m\u001b[0m\n\u001b[0;32m--> 170\u001b[0;31m             \u001b[0mSimilar_Blks\u001b[0m\u001b[0;34m,\u001b[0m \u001b[0mPositions\u001b[0m\u001b[0;34m,\u001b[0m \u001b[0mCount\u001b[0m \u001b[0;34m=\u001b[0m \u001b[0mStep1_fast_match\u001b[0m\u001b[0;34m(\u001b[0m\u001b[0m_noisyImg\u001b[0m\u001b[0;34m,\u001b[0m \u001b[0mm_blockPoint\u001b[0m\u001b[0;34m)\u001b[0m\u001b[0;34m\u001b[0m\u001b[0m\n\u001b[0m\u001b[1;32m    171\u001b[0m             \u001b[0mSimilar_Blks\u001b[0m\u001b[0;34m,\u001b[0m \u001b[0mstatis_nonzero\u001b[0m \u001b[0;34m=\u001b[0m \u001b[0mStep1_3DFiltering\u001b[0m\u001b[0;34m(\u001b[0m\u001b[0mSimilar_Blks\u001b[0m\u001b[0;34m)\u001b[0m\u001b[0;34m\u001b[0m\u001b[0m\n\u001b[1;32m    172\u001b[0m             \u001b[0mAggregation_hardthreshold\u001b[0m\u001b[0;34m(\u001b[0m\u001b[0mSimilar_Blks\u001b[0m\u001b[0;34m,\u001b[0m \u001b[0mPositions\u001b[0m\u001b[0;34m,\u001b[0m \u001b[0mBasic_img\u001b[0m\u001b[0;34m,\u001b[0m \u001b[0mm_Wight\u001b[0m\u001b[0;34m,\u001b[0m \u001b[0mstatis_nonzero\u001b[0m\u001b[0;34m,\u001b[0m \u001b[0mCount\u001b[0m\u001b[0;34m,\u001b[0m \u001b[0mm_Kaiser\u001b[0m\u001b[0;34m)\u001b[0m\u001b[0;34m\u001b[0m\u001b[0m\n",
      "\u001b[0;32m/home/iplab/Image-Denoising-with-Convolutional-Denoising-Autoencoders/bm3d.pyc\u001b[0m in \u001b[0;36mStep1_fast_match\u001b[0;34m(_noisyImg, _BlockPoint)\u001b[0m\n\u001b[1;32m    102\u001b[0m         \u001b[0;32mfor\u001b[0m \u001b[0mj\u001b[0m \u001b[0;32min\u001b[0m \u001b[0mrange\u001b[0m\u001b[0;34m(\u001b[0m\u001b[0mint\u001b[0m\u001b[0;34m(\u001b[0m\u001b[0mblk_num\u001b[0m\u001b[0;34m)\u001b[0m\u001b[0;34m)\u001b[0m\u001b[0;34m:\u001b[0m\u001b[0;34m\u001b[0m\u001b[0m\n\u001b[1;32m    103\u001b[0m             \u001b[0mtem_img\u001b[0m \u001b[0;34m=\u001b[0m \u001b[0m_noisyImg\u001b[0m\u001b[0;34m[\u001b[0m\u001b[0mpresent_x\u001b[0m\u001b[0;34m:\u001b[0m \u001b[0mpresent_x\u001b[0m\u001b[0;34m+\u001b[0m\u001b[0mBlk_Size\u001b[0m\u001b[0;34m,\u001b[0m \u001b[0mpresent_y\u001b[0m\u001b[0;34m:\u001b[0m \u001b[0mpresent_y\u001b[0m\u001b[0;34m+\u001b[0m\u001b[0mBlk_Size\u001b[0m\u001b[0;34m]\u001b[0m\u001b[0;34m\u001b[0m\u001b[0m\n\u001b[0;32m--> 104\u001b[0;31m             \u001b[0mdct_Tem_img\u001b[0m \u001b[0;34m=\u001b[0m \u001b[0mcv2\u001b[0m\u001b[0;34m.\u001b[0m\u001b[0mdct\u001b[0m\u001b[0;34m(\u001b[0m\u001b[0mtem_img\u001b[0m\u001b[0;34m.\u001b[0m\u001b[0mastype\u001b[0m\u001b[0;34m(\u001b[0m\u001b[0mnumpy\u001b[0m\u001b[0;34m.\u001b[0m\u001b[0mfloat64\u001b[0m\u001b[0;34m)\u001b[0m\u001b[0;34m)\u001b[0m\u001b[0;34m\u001b[0m\u001b[0m\n\u001b[0m\u001b[1;32m    105\u001b[0m             \u001b[0mm_Distance\u001b[0m \u001b[0;34m=\u001b[0m \u001b[0mnumpy\u001b[0m\u001b[0;34m.\u001b[0m\u001b[0mlinalg\u001b[0m\u001b[0;34m.\u001b[0m\u001b[0mnorm\u001b[0m\u001b[0;34m(\u001b[0m\u001b[0;34m(\u001b[0m\u001b[0mdct_img\u001b[0m\u001b[0;34m-\u001b[0m\u001b[0mdct_Tem_img\u001b[0m\u001b[0;34m)\u001b[0m\u001b[0;34m)\u001b[0m\u001b[0;34m**\u001b[0m\u001b[0;36m2\u001b[0m \u001b[0;34m/\u001b[0m \u001b[0;34m(\u001b[0m\u001b[0mBlk_Size\u001b[0m\u001b[0;34m**\u001b[0m\u001b[0;36m2\u001b[0m\u001b[0;34m)\u001b[0m\u001b[0;34m\u001b[0m\u001b[0m\n\u001b[1;32m    106\u001b[0m \u001b[0;34m\u001b[0m\u001b[0m\n",
      "\u001b[0;31merror\u001b[0m: /home/travis/miniconda/conda-bld/work/opencv-2.4.11/modules/core/src/dxt.cpp:2330: error: (-213) Odd-size DCT's are not implemented in function dct\n"
     ]
    }
   ],
   "source": [
    "noisy_test_images.shape\n",
    "bm3d_out = bm3d_denoise(noisy_test_images)"
   ]
  },
  {
   "cell_type": "code",
   "execution_count": null,
   "metadata": {
    "collapsed": true
   },
   "outputs": [],
   "source": [
    "bm3d_out_norm = bm3d_out.astype('float64')/255.0"
   ]
  },
  {
   "cell_type": "code",
   "execution_count": null,
   "metadata": {
    "collapsed": true
   },
   "outputs": [],
   "source": [
    "get_psnr_result(bm3d_out_norm,test_images)"
   ]
  },
  {
   "cell_type": "code",
   "execution_count": 166,
   "metadata": {
    "scrolled": true
   },
   "outputs": [
    {
     "name": "stdout",
     "output_type": "stream",
     "text": [
      "(10000, 32, 32, 1)\n"
     ]
    },
    {
     "ename": "KeyboardInterrupt",
     "evalue": "",
     "output_type": "error",
     "traceback": [
      "\u001b[0;31m---------------------------------------------------------------------------\u001b[0m",
      "\u001b[0;31mKeyboardInterrupt\u001b[0m                         Traceback (most recent call last)",
      "\u001b[0;32m<ipython-input-166-c8bb56579059>\u001b[0m in \u001b[0;36m<module>\u001b[0;34m()\u001b[0m\n\u001b[1;32m      1\u001b[0m \u001b[0;32mprint\u001b[0m\u001b[0;34m(\u001b[0m\u001b[0mnoisy_test_images\u001b[0m\u001b[0;34m.\u001b[0m\u001b[0mshape\u001b[0m\u001b[0;34m)\u001b[0m\u001b[0;34m\u001b[0m\u001b[0m\n\u001b[0;32m----> 2\u001b[0;31m \u001b[0mnlm_out\u001b[0m \u001b[0;34m=\u001b[0m \u001b[0mnlm_denoise\u001b[0m\u001b[0;34m(\u001b[0m\u001b[0mnoisy_test_images\u001b[0m\u001b[0;34m*\u001b[0m\u001b[0;36m255.\u001b[0m\u001b[0;34m)\u001b[0m\u001b[0;34m\u001b[0m\u001b[0m\n\u001b[0m\u001b[1;32m      3\u001b[0m \u001b[0mnlm_out\u001b[0m \u001b[0;34m=\u001b[0m \u001b[0mnlm_out\u001b[0m\u001b[0;34m.\u001b[0m\u001b[0mastype\u001b[0m\u001b[0;34m(\u001b[0m\u001b[0;34m'float64'\u001b[0m\u001b[0;34m)\u001b[0m\u001b[0;34m\u001b[0m\u001b[0m\n",
      "\u001b[0;32m<ipython-input-165-85427f2402e9>\u001b[0m in \u001b[0;36mnlm_denoise\u001b[0;34m(noisy_image)\u001b[0m\n\u001b[1;32m     19\u001b[0m \u001b[0;34m\u001b[0m\u001b[0m\n\u001b[1;32m     20\u001b[0m     \u001b[0;32mfor\u001b[0m \u001b[0mimage\u001b[0m \u001b[0;32min\u001b[0m \u001b[0mnoisy_image\u001b[0m\u001b[0;34m:\u001b[0m\u001b[0;34m\u001b[0m\u001b[0m\n\u001b[0;32m---> 21\u001b[0;31m         \u001b[0mdenoised_image\u001b[0m \u001b[0;34m=\u001b[0m \u001b[0mdenoise_nl_means\u001b[0m\u001b[0;34m(\u001b[0m\u001b[0mimage\u001b[0m\u001b[0;34m,\u001b[0m \u001b[0;36m7\u001b[0m\u001b[0;34m,\u001b[0m \u001b[0;36m11\u001b[0m\u001b[0;34m,\u001b[0m \u001b[0;36m0.5\u001b[0m\u001b[0;34m,\u001b[0m\u001b[0mmultichannel\u001b[0m \u001b[0;34m=\u001b[0m \u001b[0mFalse\u001b[0m\u001b[0;34m)\u001b[0m\u001b[0;34m\u001b[0m\u001b[0m\n\u001b[0m\u001b[1;32m     22\u001b[0m         \u001b[0mdenoised\u001b[0m\u001b[0;34m.\u001b[0m\u001b[0mappend\u001b[0m\u001b[0;34m(\u001b[0m\u001b[0mdenoised_image\u001b[0m\u001b[0;34m)\u001b[0m\u001b[0;34m\u001b[0m\u001b[0m\n\u001b[1;32m     23\u001b[0m         \u001b[0;32mif\u001b[0m\u001b[0;34m(\u001b[0m\u001b[0mcount\u001b[0m\u001b[0;34m%\u001b[0m\u001b[0;36m100\u001b[0m \u001b[0;34m==\u001b[0m \u001b[0;36m0\u001b[0m\u001b[0;34m)\u001b[0m \u001b[0;34m:\u001b[0m\u001b[0;34m\u001b[0m\u001b[0m\n",
      "\u001b[0;32m/home/iplab/anaconda2/lib/python2.7/site-packages/skimage/restoration/non_local_means.pyc\u001b[0m in \u001b[0;36mdenoise_nl_means\u001b[0;34m(image, patch_size, patch_distance, h, multichannel, fast_mode)\u001b[0m\n\u001b[1;32m    125\u001b[0m         \u001b[0;32mif\u001b[0m \u001b[0mfast_mode\u001b[0m\u001b[0;34m:\u001b[0m\u001b[0;34m\u001b[0m\u001b[0m\n\u001b[1;32m    126\u001b[0m             return np.array(_fast_nl_means_denoising_3d(image, s=patch_size,\n\u001b[0;32m--> 127\u001b[0;31m                                                         d=patch_distance, h=h))\n\u001b[0m\u001b[1;32m    128\u001b[0m         \u001b[0;32melse\u001b[0m\u001b[0;34m:\u001b[0m\u001b[0;34m\u001b[0m\u001b[0m\n\u001b[1;32m    129\u001b[0m             return np.array(_nl_means_denoising_3d(image, patch_size,\n",
      "\u001b[0;32mskimage/restoration/_nl_means_denoising.pyx\u001b[0m in \u001b[0;36mskimage.restoration._nl_means_denoising._fast_nl_means_denoising_3d (skimage/restoration/_nl_means_denoising.c:8689)\u001b[0;34m()\u001b[0m\n",
      "\u001b[0;32m/home/iplab/anaconda2/lib/python2.7/site-packages/numpy/core/numeric.pyc\u001b[0m in \u001b[0;36mzeros_like\u001b[0;34m(a, dtype, order, subok)\u001b[0m\n\u001b[1;32m     85\u001b[0m \u001b[0;34m\u001b[0m\u001b[0m\n\u001b[1;32m     86\u001b[0m \u001b[0;34m\u001b[0m\u001b[0m\n\u001b[0;32m---> 87\u001b[0;31m \u001b[0;32mdef\u001b[0m \u001b[0mzeros_like\u001b[0m\u001b[0;34m(\u001b[0m\u001b[0ma\u001b[0m\u001b[0;34m,\u001b[0m \u001b[0mdtype\u001b[0m\u001b[0;34m=\u001b[0m\u001b[0mNone\u001b[0m\u001b[0;34m,\u001b[0m \u001b[0morder\u001b[0m\u001b[0;34m=\u001b[0m\u001b[0;34m'K'\u001b[0m\u001b[0;34m,\u001b[0m \u001b[0msubok\u001b[0m\u001b[0;34m=\u001b[0m\u001b[0mTrue\u001b[0m\u001b[0;34m)\u001b[0m\u001b[0;34m:\u001b[0m\u001b[0;34m\u001b[0m\u001b[0m\n\u001b[0m\u001b[1;32m     88\u001b[0m     \"\"\"\n\u001b[1;32m     89\u001b[0m     \u001b[0mReturn\u001b[0m \u001b[0man\u001b[0m \u001b[0marray\u001b[0m \u001b[0mof\u001b[0m \u001b[0mzeros\u001b[0m \u001b[0;32mwith\u001b[0m \u001b[0mthe\u001b[0m \u001b[0msame\u001b[0m \u001b[0mshape\u001b[0m \u001b[0;32mand\u001b[0m \u001b[0mtype\u001b[0m \u001b[0;32mas\u001b[0m \u001b[0ma\u001b[0m \u001b[0mgiven\u001b[0m \u001b[0marray\u001b[0m\u001b[0;34m.\u001b[0m\u001b[0;34m\u001b[0m\u001b[0m\n",
      "\u001b[0;31mKeyboardInterrupt\u001b[0m: "
     ]
    }
   ],
   "source": [
    "print(noisy_test_images.shape)\n",
    "nlm_out = nlm_denoise(noisy_test_images*255.)\n",
    "nlm_out = nlm_out.astype('float64')"
   ]
  },
  {
   "cell_type": "code",
   "execution_count": 157,
   "metadata": {},
   "outputs": [
    {
     "name": "stdout",
     "output_type": "stream",
     "text": [
      "(10000, 32, 32) (10000, 32, 32, 1)\n"
     ]
    },
    {
     "data": {
      "text/plain": [
       "18.414818545893922"
      ]
     },
     "execution_count": 157,
     "metadata": {},
     "output_type": "execute_result"
    }
   ],
   "source": [
    "print nlm_out.shape,test_images.shape\n",
    "get_psnr_result(nlm_out,test_images)"
   ]
  },
  {
   "cell_type": "code",
   "execution_count": 136,
   "metadata": {},
   "outputs": [
    {
     "data": {
      "text/plain": [
       "0.69608629344603479"
      ]
     },
     "execution_count": 136,
     "metadata": {},
     "output_type": "execute_result"
    }
   ],
   "source": [
    "get_ssim_result(test_images,out_autoencoder*255.)"
   ]
  },
  {
   "cell_type": "code",
   "execution_count": 66,
   "metadata": {},
   "outputs": [
    {
     "data": {
      "text/plain": [
       "0.718734871276698"
      ]
     },
     "execution_count": 66,
     "metadata": {},
     "output_type": "execute_result"
    }
   ],
   "source": [
    "get_ssim_result(test_images,out_sym_autoencoder)"
   ]
  },
  {
   "cell_type": "code",
   "execution_count": null,
   "metadata": {
    "collapsed": true
   },
   "outputs": [],
   "source": [
    "get_ssim_result(test_images,bm3d_out_norm)"
   ]
  },
  {
   "cell_type": "code",
   "execution_count": 69,
   "metadata": {},
   "outputs": [
    {
     "data": {
      "text/plain": [
       "0.49438484841716263"
      ]
     },
     "execution_count": 69,
     "metadata": {},
     "output_type": "execute_result"
    }
   ],
   "source": [
    "get_ssim_result(test_images,nlm_out)"
   ]
  },
  {
   "cell_type": "code",
   "execution_count": 57,
   "metadata": {
    "collapsed": true
   },
   "outputs": [],
   "source": [
    "model = load_model(\"./models/simple_cnn_autoencoder.hdf5\")"
   ]
  },
  {
   "cell_type": "code",
   "execution_count": 21,
   "metadata": {},
   "outputs": [
    {
     "name": "stdout",
     "output_type": "stream",
     "text": [
      "10000/10000 [==============================] - 7s     \n"
     ]
    }
   ],
   "source": [
    "bwmodel= model.predict(noisy_test_images,verbose=1)"
   ]
  },
  {
   "cell_type": "code",
   "execution_count": 24,
   "metadata": {},
   "outputs": [
    {
     "name": "stdout",
     "output_type": "stream",
     "text": [
      "((10000, 32, 32, 1), (10000, 32, 32, 1))\n"
     ]
    },
    {
     "data": {
      "text/plain": [
       "16.773690910050014"
      ]
     },
     "execution_count": 24,
     "metadata": {},
     "output_type": "execute_result"
    }
   ],
   "source": [
    "print (test_images.shape,bwmodel.shape)\n",
    "get_psnr_result(bwmodel,test_images)"
   ]
  },
  {
   "cell_type": "code",
   "execution_count": 18,
   "metadata": {
    "collapsed": true
   },
   "outputs": [],
   "source": [
    "def read_images_from_folder(folder_path):\n",
    "    images = []\n",
    "    for filename in os.listdir(folder_path):\n",
    "        img = cv2.imread(os.path.join(folder_path,filename),0)\n",
    "        if img is not None:\n",
    "            images.append((img,filename))\n",
    "    return np.array(images)\n",
    "        "
   ]
  },
  {
   "cell_type": "code",
   "execution_count": 19,
   "metadata": {},
   "outputs": [
    {
     "ename": "OSError",
     "evalue": "[Errno 2] No such file or directory: './data/standard_test_images/gd/'",
     "output_type": "error",
     "traceback": [
      "\u001b[0;31m---------------------------------------------------------------------------\u001b[0m",
      "\u001b[0;31mOSError\u001b[0m                                   Traceback (most recent call last)",
      "\u001b[0;32m<ipython-input-19-d07ccf231475>\u001b[0m in \u001b[0;36m<module>\u001b[0;34m()\u001b[0m\n\u001b[0;32m----> 1\u001b[0;31m \u001b[0mstandard_test_images\u001b[0m \u001b[0;34m=\u001b[0m \u001b[0mread_images_from_folder\u001b[0m\u001b[0;34m(\u001b[0m\u001b[0;34m'./data/standard_test_images/gd/'\u001b[0m\u001b[0;34m)\u001b[0m\u001b[0;34m\u001b[0m\u001b[0m\n\u001b[0m",
      "\u001b[0;32m<ipython-input-18-14c1ba17dc58>\u001b[0m in \u001b[0;36mread_images_from_folder\u001b[0;34m(folder_path)\u001b[0m\n\u001b[1;32m      1\u001b[0m \u001b[0;32mdef\u001b[0m \u001b[0mread_images_from_folder\u001b[0m\u001b[0;34m(\u001b[0m\u001b[0mfolder_path\u001b[0m\u001b[0;34m)\u001b[0m\u001b[0;34m:\u001b[0m\u001b[0;34m\u001b[0m\u001b[0m\n\u001b[1;32m      2\u001b[0m     \u001b[0mimages\u001b[0m \u001b[0;34m=\u001b[0m \u001b[0;34m[\u001b[0m\u001b[0;34m]\u001b[0m\u001b[0;34m\u001b[0m\u001b[0m\n\u001b[0;32m----> 3\u001b[0;31m     \u001b[0;32mfor\u001b[0m \u001b[0mfilename\u001b[0m \u001b[0;32min\u001b[0m \u001b[0mos\u001b[0m\u001b[0;34m.\u001b[0m\u001b[0mlistdir\u001b[0m\u001b[0;34m(\u001b[0m\u001b[0mfolder_path\u001b[0m\u001b[0;34m)\u001b[0m\u001b[0;34m:\u001b[0m\u001b[0;34m\u001b[0m\u001b[0m\n\u001b[0m\u001b[1;32m      4\u001b[0m         \u001b[0mimg\u001b[0m \u001b[0;34m=\u001b[0m \u001b[0mcv2\u001b[0m\u001b[0;34m.\u001b[0m\u001b[0mimread\u001b[0m\u001b[0;34m(\u001b[0m\u001b[0mos\u001b[0m\u001b[0;34m.\u001b[0m\u001b[0mpath\u001b[0m\u001b[0;34m.\u001b[0m\u001b[0mjoin\u001b[0m\u001b[0;34m(\u001b[0m\u001b[0mfolder_path\u001b[0m\u001b[0;34m,\u001b[0m\u001b[0mfilename\u001b[0m\u001b[0;34m)\u001b[0m\u001b[0;34m,\u001b[0m\u001b[0;36m0\u001b[0m\u001b[0;34m)\u001b[0m\u001b[0;34m\u001b[0m\u001b[0m\n\u001b[1;32m      5\u001b[0m         \u001b[0;32mif\u001b[0m \u001b[0mimg\u001b[0m \u001b[0;32mis\u001b[0m \u001b[0;32mnot\u001b[0m \u001b[0mNone\u001b[0m\u001b[0;34m:\u001b[0m\u001b[0;34m\u001b[0m\u001b[0m\n",
      "\u001b[0;31mOSError\u001b[0m: [Errno 2] No such file or directory: './data/standard_test_images/gd/'"
     ]
    }
   ],
   "source": [
    "standard_test_images = read_images_from_folder('./data/standard_test_images/gd/')"
   ]
  },
  {
   "cell_type": "code",
   "execution_count": 140,
   "metadata": {},
   "outputs": [
    {
     "data": {
      "text/plain": [
       "(12, 2)"
      ]
     },
     "execution_count": 140,
     "metadata": {},
     "output_type": "execute_result"
    }
   ],
   "source": [
    "standard_test_images.shape"
   ]
  },
  {
   "cell_type": "code",
   "execution_count": 141,
   "metadata": {},
   "outputs": [
    {
     "data": {
      "text/plain": [
       "array([ array([[156, 157, 160, ..., 152, 152, 152],\n",
       "       [156, 157, 159, ..., 152, 152, 152],\n",
       "       [158, 157, 156, ..., 152, 152, 152],\n",
       "       ..., \n",
       "       [121, 123, 126, ..., 121, 113, 111],\n",
       "       [121, 123, 126, ..., 121, 113, 111],\n",
       "       [121, 123, 126, ..., 121, 113, 111]], dtype=uint8),\n",
       "       'cameraman.tif'], dtype=object)"
      ]
     },
     "execution_count": 141,
     "metadata": {},
     "output_type": "execute_result"
    }
   ],
   "source": [
    "standard_test_images[0]"
   ]
  },
  {
   "cell_type": "code",
   "execution_count": 154,
   "metadata": {
    "collapsed": true
   },
   "outputs": [],
   "source": [
    "std_test_images = []\n",
    "image_names = []\n",
    "for img in standard_test_images:\n",
    "    std_test_images.append(img[0])\n",
    "    image_names.append(img[1])\n",
    "std_test_images = np.array(test_images)"
   ]
  },
  {
   "cell_type": "code",
   "execution_count": 143,
   "metadata": {
    "collapsed": true
   },
   "outputs": [],
   "source": [
    "noisy_std_test_images = add_noise(test_images)"
   ]
  },
  {
   "cell_type": "code",
   "execution_count": 144,
   "metadata": {
    "collapsed": true
   },
   "outputs": [],
   "source": [
    "for index in range(noisy_std_test_images.shape[0]):\n",
    "    cv2.imwrite('./data/standard_test_images/noise/'+image_names[index],noisy_std_test_images[index])"
   ]
  },
  {
   "cell_type": "code",
   "execution_count": 14,
   "metadata": {
    "collapsed": true
   },
   "outputs": [],
   "source": [
    "def denoise_std_test_images(images,model,stride):\n",
    "    denoised_images = []\n",
    "    for index in range(images.shape[0]):\n",
    "        d_image = denoise_by_patches(images[index],model,stride)\n",
    "        denoised_images.append(d_image)\n",
    "        print compare_psnr(d_image.astype('int64'),std_test_images[index].astype('int64'),data_range=255)\n",
    "        cv2.imwrite('./data/standard_test_images/denoise/'+image_names[index],d_image)\n",
    "        print \"image \" + str(index)+ \" denoised\""
   ]
  },
  {
   "cell_type": "code",
   "execution_count": 231,
   "metadata": {
    "scrolled": true
   },
   "outputs": [
    {
     "ename": "KeyboardInterrupt",
     "evalue": "",
     "output_type": "error",
     "traceback": [
      "\u001b[0;31m---------------------------------------------------------------------------\u001b[0m",
      "\u001b[0;31mKeyboardInterrupt\u001b[0m                         Traceback (most recent call last)",
      "\u001b[0;32m<ipython-input-231-fa9687567ea2>\u001b[0m in \u001b[0;36m<module>\u001b[0;34m()\u001b[0m\n\u001b[0;32m----> 1\u001b[0;31m \u001b[0mdenoise_std_test_images\u001b[0m\u001b[0;34m(\u001b[0m\u001b[0mnoisy_std_test_images\u001b[0m\u001b[0;34m,\u001b[0m\u001b[0mmodel\u001b[0m\u001b[0;34m,\u001b[0m\u001b[0;36m1\u001b[0m\u001b[0;34m)\u001b[0m\u001b[0;34m\u001b[0m\u001b[0m\n\u001b[0m",
      "\u001b[0;32m<ipython-input-229-5dd213b9b68e>\u001b[0m in \u001b[0;36mdenoise_std_test_images\u001b[0;34m(images, model, stride)\u001b[0m\n\u001b[1;32m      2\u001b[0m     \u001b[0mdenoised_images\u001b[0m \u001b[0;34m=\u001b[0m \u001b[0;34m[\u001b[0m\u001b[0;34m]\u001b[0m\u001b[0;34m\u001b[0m\u001b[0m\n\u001b[1;32m      3\u001b[0m     \u001b[0;32mfor\u001b[0m \u001b[0mindex\u001b[0m \u001b[0;32min\u001b[0m \u001b[0mrange\u001b[0m\u001b[0;34m(\u001b[0m\u001b[0mimages\u001b[0m\u001b[0;34m.\u001b[0m\u001b[0mshape\u001b[0m\u001b[0;34m[\u001b[0m\u001b[0;36m0\u001b[0m\u001b[0;34m]\u001b[0m\u001b[0;34m)\u001b[0m\u001b[0;34m:\u001b[0m\u001b[0;34m\u001b[0m\u001b[0m\n\u001b[0;32m----> 4\u001b[0;31m         \u001b[0md_image\u001b[0m \u001b[0;34m=\u001b[0m \u001b[0mdenoise_by_patches\u001b[0m\u001b[0;34m(\u001b[0m\u001b[0mimages\u001b[0m\u001b[0;34m[\u001b[0m\u001b[0mindex\u001b[0m\u001b[0;34m]\u001b[0m\u001b[0;34m,\u001b[0m\u001b[0mmodel\u001b[0m\u001b[0;34m,\u001b[0m\u001b[0mstride\u001b[0m\u001b[0;34m)\u001b[0m\u001b[0;34m\u001b[0m\u001b[0m\n\u001b[0m\u001b[1;32m      5\u001b[0m         \u001b[0mdenoised_images\u001b[0m\u001b[0;34m.\u001b[0m\u001b[0mappend\u001b[0m\u001b[0;34m(\u001b[0m\u001b[0md_image\u001b[0m\u001b[0;34m)\u001b[0m\u001b[0;34m\u001b[0m\u001b[0m\n\u001b[1;32m      6\u001b[0m         \u001b[0;32mprint\u001b[0m \u001b[0mcompare_psnr\u001b[0m\u001b[0;34m(\u001b[0m\u001b[0md_image\u001b[0m\u001b[0;34m.\u001b[0m\u001b[0mastype\u001b[0m\u001b[0;34m(\u001b[0m\u001b[0;34m'int64'\u001b[0m\u001b[0;34m)\u001b[0m\u001b[0;34m,\u001b[0m\u001b[0mstd_test_images\u001b[0m\u001b[0;34m[\u001b[0m\u001b[0mindex\u001b[0m\u001b[0;34m]\u001b[0m\u001b[0;34m.\u001b[0m\u001b[0mastype\u001b[0m\u001b[0;34m(\u001b[0m\u001b[0;34m'int64'\u001b[0m\u001b[0;34m)\u001b[0m\u001b[0;34m,\u001b[0m\u001b[0mdata_range\u001b[0m\u001b[0;34m=\u001b[0m\u001b[0;36m255\u001b[0m\u001b[0;34m)\u001b[0m\u001b[0;34m\u001b[0m\u001b[0m\n",
      "\u001b[0;32m<ipython-input-222-a5ba357f2f42>\u001b[0m in \u001b[0;36mdenoise_by_patches\u001b[0;34m(noisy_image, model, stride)\u001b[0m\n\u001b[1;32m     17\u001b[0m             \u001b[0mde_patch\u001b[0m \u001b[0;34m=\u001b[0m \u001b[0mnp\u001b[0m\u001b[0;34m.\u001b[0m\u001b[0mreshape\u001b[0m\u001b[0;34m(\u001b[0m\u001b[0mde_patch\u001b[0m\u001b[0;34m,\u001b[0m \u001b[0;34m(\u001b[0m\u001b[0;36m1\u001b[0m\u001b[0;34m,\u001b[0m\u001b[0;36m32\u001b[0m\u001b[0;34m,\u001b[0m\u001b[0;36m32\u001b[0m\u001b[0;34m,\u001b[0m\u001b[0;36m1\u001b[0m\u001b[0;34m)\u001b[0m\u001b[0;34m)\u001b[0m\u001b[0;34m\u001b[0m\u001b[0m\n\u001b[1;32m     18\u001b[0m             \u001b[0;31m#print de_patch.shape\u001b[0m\u001b[0;34m\u001b[0m\u001b[0;34m\u001b[0m\u001b[0m\n\u001b[0;32m---> 19\u001b[0;31m             \u001b[0mde_patch\u001b[0m \u001b[0;34m=\u001b[0m \u001b[0mmodel\u001b[0m\u001b[0;34m.\u001b[0m\u001b[0mpredict\u001b[0m\u001b[0;34m(\u001b[0m\u001b[0mde_patch\u001b[0m\u001b[0;34m)\u001b[0m\u001b[0;34m\u001b[0m\u001b[0m\n\u001b[0m\u001b[1;32m     20\u001b[0m             \u001b[0mde_patch\u001b[0m \u001b[0;34m=\u001b[0m \u001b[0mde_patch\u001b[0m\u001b[0;34m[\u001b[0m\u001b[0;36m0\u001b[0m\u001b[0;34m]\u001b[0m\u001b[0;34m*\u001b[0m\u001b[0;36m255.\u001b[0m\u001b[0;34m\u001b[0m\u001b[0m\n\u001b[1;32m     21\u001b[0m             \u001b[0mdenoise_image\u001b[0m\u001b[0;34m[\u001b[0m\u001b[0mrow\u001b[0m\u001b[0;34m:\u001b[0m\u001b[0mrow\u001b[0m\u001b[0;34m+\u001b[0m\u001b[0;36m32\u001b[0m \u001b[0;34m,\u001b[0m\u001b[0mcol\u001b[0m\u001b[0;34m:\u001b[0m\u001b[0mcol\u001b[0m\u001b[0;34m+\u001b[0m\u001b[0;36m32\u001b[0m\u001b[0;34m]\u001b[0m \u001b[0;34m+=\u001b[0m \u001b[0mnp\u001b[0m\u001b[0;34m.\u001b[0m\u001b[0mreshape\u001b[0m\u001b[0;34m(\u001b[0m\u001b[0mde_patch\u001b[0m\u001b[0;34m,\u001b[0m \u001b[0;34m(\u001b[0m\u001b[0;36m32\u001b[0m\u001b[0;34m,\u001b[0m\u001b[0;36m32\u001b[0m\u001b[0;34m)\u001b[0m\u001b[0;34m)\u001b[0m\u001b[0;34m.\u001b[0m\u001b[0mastype\u001b[0m\u001b[0;34m(\u001b[0m\u001b[0;34m'int64'\u001b[0m\u001b[0;34m)\u001b[0m\u001b[0;34m\u001b[0m\u001b[0m\n",
      "\u001b[0;32m/home/iplab/anaconda2/lib/python2.7/site-packages/keras/engine/training.pyc\u001b[0m in \u001b[0;36mpredict\u001b[0;34m(self, x, batch_size, verbose)\u001b[0m\n\u001b[1;32m   1515\u001b[0m         \u001b[0mf\u001b[0m \u001b[0;34m=\u001b[0m \u001b[0mself\u001b[0m\u001b[0;34m.\u001b[0m\u001b[0mpredict_function\u001b[0m\u001b[0;34m\u001b[0m\u001b[0m\n\u001b[1;32m   1516\u001b[0m         return self._predict_loop(f, ins,\n\u001b[0;32m-> 1517\u001b[0;31m                                   batch_size=batch_size, verbose=verbose)\n\u001b[0m\u001b[1;32m   1518\u001b[0m \u001b[0;34m\u001b[0m\u001b[0m\n\u001b[1;32m   1519\u001b[0m     def train_on_batch(self, x, y,\n",
      "\u001b[0;32m/home/iplab/anaconda2/lib/python2.7/site-packages/keras/engine/training.pyc\u001b[0m in \u001b[0;36m_predict_loop\u001b[0;34m(self, f, ins, batch_size, verbose)\u001b[0m\n\u001b[1;32m   1139\u001b[0m                 \u001b[0mins_batch\u001b[0m \u001b[0;34m=\u001b[0m \u001b[0m_slice_arrays\u001b[0m\u001b[0;34m(\u001b[0m\u001b[0mins\u001b[0m\u001b[0;34m,\u001b[0m \u001b[0mbatch_ids\u001b[0m\u001b[0;34m)\u001b[0m\u001b[0;34m\u001b[0m\u001b[0m\n\u001b[1;32m   1140\u001b[0m \u001b[0;34m\u001b[0m\u001b[0m\n\u001b[0;32m-> 1141\u001b[0;31m             \u001b[0mbatch_outs\u001b[0m \u001b[0;34m=\u001b[0m \u001b[0mf\u001b[0m\u001b[0;34m(\u001b[0m\u001b[0mins_batch\u001b[0m\u001b[0;34m)\u001b[0m\u001b[0;34m\u001b[0m\u001b[0m\n\u001b[0m\u001b[1;32m   1142\u001b[0m             \u001b[0;32mif\u001b[0m \u001b[0;32mnot\u001b[0m \u001b[0misinstance\u001b[0m\u001b[0;34m(\u001b[0m\u001b[0mbatch_outs\u001b[0m\u001b[0;34m,\u001b[0m \u001b[0mlist\u001b[0m\u001b[0;34m)\u001b[0m\u001b[0;34m:\u001b[0m\u001b[0;34m\u001b[0m\u001b[0m\n\u001b[1;32m   1143\u001b[0m                 \u001b[0mbatch_outs\u001b[0m \u001b[0;34m=\u001b[0m \u001b[0;34m[\u001b[0m\u001b[0mbatch_outs\u001b[0m\u001b[0;34m]\u001b[0m\u001b[0;34m\u001b[0m\u001b[0m\n",
      "\u001b[0;32m/home/iplab/anaconda2/lib/python2.7/site-packages/keras/backend/tensorflow_backend.pyc\u001b[0m in \u001b[0;36m__call__\u001b[0;34m(self, inputs)\u001b[0m\n\u001b[1;32m   2266\u001b[0m         updated = session.run(self.outputs + [self.updates_op],\n\u001b[1;32m   2267\u001b[0m                               \u001b[0mfeed_dict\u001b[0m\u001b[0;34m=\u001b[0m\u001b[0mfeed_dict\u001b[0m\u001b[0;34m,\u001b[0m\u001b[0;34m\u001b[0m\u001b[0m\n\u001b[0;32m-> 2268\u001b[0;31m                               **self.session_kwargs)\n\u001b[0m\u001b[1;32m   2269\u001b[0m         \u001b[0;32mreturn\u001b[0m \u001b[0mupdated\u001b[0m\u001b[0;34m[\u001b[0m\u001b[0;34m:\u001b[0m\u001b[0mlen\u001b[0m\u001b[0;34m(\u001b[0m\u001b[0mself\u001b[0m\u001b[0;34m.\u001b[0m\u001b[0moutputs\u001b[0m\u001b[0;34m)\u001b[0m\u001b[0;34m]\u001b[0m\u001b[0;34m\u001b[0m\u001b[0m\n\u001b[1;32m   2270\u001b[0m \u001b[0;34m\u001b[0m\u001b[0m\n",
      "\u001b[0;32m/home/iplab/anaconda2/lib/python2.7/site-packages/tensorflow/python/client/session.pyc\u001b[0m in \u001b[0;36mrun\u001b[0;34m(self, fetches, feed_dict, options, run_metadata)\u001b[0m\n\u001b[1;32m    765\u001b[0m     \u001b[0;32mtry\u001b[0m\u001b[0;34m:\u001b[0m\u001b[0;34m\u001b[0m\u001b[0m\n\u001b[1;32m    766\u001b[0m       result = self._run(None, fetches, feed_dict, options_ptr,\n\u001b[0;32m--> 767\u001b[0;31m                          run_metadata_ptr)\n\u001b[0m\u001b[1;32m    768\u001b[0m       \u001b[0;32mif\u001b[0m \u001b[0mrun_metadata\u001b[0m\u001b[0;34m:\u001b[0m\u001b[0;34m\u001b[0m\u001b[0m\n\u001b[1;32m    769\u001b[0m         \u001b[0mproto_data\u001b[0m \u001b[0;34m=\u001b[0m \u001b[0mtf_session\u001b[0m\u001b[0;34m.\u001b[0m\u001b[0mTF_GetBuffer\u001b[0m\u001b[0;34m(\u001b[0m\u001b[0mrun_metadata_ptr\u001b[0m\u001b[0;34m)\u001b[0m\u001b[0;34m\u001b[0m\u001b[0m\n",
      "\u001b[0;32m/home/iplab/anaconda2/lib/python2.7/site-packages/tensorflow/python/client/session.pyc\u001b[0m in \u001b[0;36m_run\u001b[0;34m(self, handle, fetches, feed_dict, options, run_metadata)\u001b[0m\n\u001b[1;32m    963\u001b[0m     \u001b[0;32mif\u001b[0m \u001b[0mfinal_fetches\u001b[0m \u001b[0;32mor\u001b[0m \u001b[0mfinal_targets\u001b[0m\u001b[0;34m:\u001b[0m\u001b[0;34m\u001b[0m\u001b[0m\n\u001b[1;32m    964\u001b[0m       results = self._do_run(handle, final_targets, final_fetches,\n\u001b[0;32m--> 965\u001b[0;31m                              feed_dict_string, options, run_metadata)\n\u001b[0m\u001b[1;32m    966\u001b[0m     \u001b[0;32melse\u001b[0m\u001b[0;34m:\u001b[0m\u001b[0;34m\u001b[0m\u001b[0m\n\u001b[1;32m    967\u001b[0m       \u001b[0mresults\u001b[0m \u001b[0;34m=\u001b[0m \u001b[0;34m[\u001b[0m\u001b[0;34m]\u001b[0m\u001b[0;34m\u001b[0m\u001b[0m\n",
      "\u001b[0;32m/home/iplab/anaconda2/lib/python2.7/site-packages/tensorflow/python/client/session.pyc\u001b[0m in \u001b[0;36m_do_run\u001b[0;34m(self, handle, target_list, fetch_list, feed_dict, options, run_metadata)\u001b[0m\n\u001b[1;32m   1013\u001b[0m     \u001b[0;32mif\u001b[0m \u001b[0mhandle\u001b[0m \u001b[0;32mis\u001b[0m \u001b[0mNone\u001b[0m\u001b[0;34m:\u001b[0m\u001b[0;34m\u001b[0m\u001b[0m\n\u001b[1;32m   1014\u001b[0m       return self._do_call(_run_fn, self._session, feed_dict, fetch_list,\n\u001b[0;32m-> 1015\u001b[0;31m                            target_list, options, run_metadata)\n\u001b[0m\u001b[1;32m   1016\u001b[0m     \u001b[0;32melse\u001b[0m\u001b[0;34m:\u001b[0m\u001b[0;34m\u001b[0m\u001b[0m\n\u001b[1;32m   1017\u001b[0m       return self._do_call(_prun_fn, self._session, handle, feed_dict,\n",
      "\u001b[0;32m/home/iplab/anaconda2/lib/python2.7/site-packages/tensorflow/python/client/session.pyc\u001b[0m in \u001b[0;36m_do_call\u001b[0;34m(self, fn, *args)\u001b[0m\n\u001b[1;32m   1020\u001b[0m   \u001b[0;32mdef\u001b[0m \u001b[0m_do_call\u001b[0m\u001b[0;34m(\u001b[0m\u001b[0mself\u001b[0m\u001b[0;34m,\u001b[0m \u001b[0mfn\u001b[0m\u001b[0;34m,\u001b[0m \u001b[0;34m*\u001b[0m\u001b[0margs\u001b[0m\u001b[0;34m)\u001b[0m\u001b[0;34m:\u001b[0m\u001b[0;34m\u001b[0m\u001b[0m\n\u001b[1;32m   1021\u001b[0m     \u001b[0;32mtry\u001b[0m\u001b[0;34m:\u001b[0m\u001b[0;34m\u001b[0m\u001b[0m\n\u001b[0;32m-> 1022\u001b[0;31m       \u001b[0;32mreturn\u001b[0m \u001b[0mfn\u001b[0m\u001b[0;34m(\u001b[0m\u001b[0;34m*\u001b[0m\u001b[0margs\u001b[0m\u001b[0;34m)\u001b[0m\u001b[0;34m\u001b[0m\u001b[0m\n\u001b[0m\u001b[1;32m   1023\u001b[0m     \u001b[0;32mexcept\u001b[0m \u001b[0merrors\u001b[0m\u001b[0;34m.\u001b[0m\u001b[0mOpError\u001b[0m \u001b[0;32mas\u001b[0m \u001b[0me\u001b[0m\u001b[0;34m:\u001b[0m\u001b[0;34m\u001b[0m\u001b[0m\n\u001b[1;32m   1024\u001b[0m       \u001b[0mmessage\u001b[0m \u001b[0;34m=\u001b[0m \u001b[0mcompat\u001b[0m\u001b[0;34m.\u001b[0m\u001b[0mas_text\u001b[0m\u001b[0;34m(\u001b[0m\u001b[0me\u001b[0m\u001b[0;34m.\u001b[0m\u001b[0mmessage\u001b[0m\u001b[0;34m)\u001b[0m\u001b[0;34m\u001b[0m\u001b[0m\n",
      "\u001b[0;32m/home/iplab/anaconda2/lib/python2.7/site-packages/tensorflow/python/client/session.pyc\u001b[0m in \u001b[0;36m_run_fn\u001b[0;34m(session, feed_dict, fetch_list, target_list, options, run_metadata)\u001b[0m\n\u001b[1;32m   1002\u001b[0m         return tf_session.TF_Run(session, options,\n\u001b[1;32m   1003\u001b[0m                                  \u001b[0mfeed_dict\u001b[0m\u001b[0;34m,\u001b[0m \u001b[0mfetch_list\u001b[0m\u001b[0;34m,\u001b[0m \u001b[0mtarget_list\u001b[0m\u001b[0;34m,\u001b[0m\u001b[0;34m\u001b[0m\u001b[0m\n\u001b[0;32m-> 1004\u001b[0;31m                                  status, run_metadata)\n\u001b[0m\u001b[1;32m   1005\u001b[0m \u001b[0;34m\u001b[0m\u001b[0m\n\u001b[1;32m   1006\u001b[0m     \u001b[0;32mdef\u001b[0m \u001b[0m_prun_fn\u001b[0m\u001b[0;34m(\u001b[0m\u001b[0msession\u001b[0m\u001b[0;34m,\u001b[0m \u001b[0mhandle\u001b[0m\u001b[0;34m,\u001b[0m \u001b[0mfeed_dict\u001b[0m\u001b[0;34m,\u001b[0m \u001b[0mfetch_list\u001b[0m\u001b[0;34m)\u001b[0m\u001b[0;34m:\u001b[0m\u001b[0;34m\u001b[0m\u001b[0m\n",
      "\u001b[0;31mKeyboardInterrupt\u001b[0m: "
     ]
    }
   ],
   "source": [
    "denoise_std_test_images(noisy_std_test_images,model,1)"
   ]
  },
  {
   "cell_type": "code",
   "execution_count": 196,
   "metadata": {},
   "outputs": [
    {
     "name": "stdout",
     "output_type": "stream",
     "text": [
      "30.1276904426\n"
     ]
    }
   ],
   "source": [
    "nlm_camera = cv2.fastNlMeansDenoising(noisy_std_test_images[0].astype('uint8'),None,25,7 ,21)\n",
    "cv2.imwrite(\"nlm.png\",nlm_camera)\n",
    "print compare_psnr(nlm_camera,std_test_images[0])"
   ]
  },
  {
   "cell_type": "code",
   "execution_count": 13,
   "metadata": {
    "collapsed": true
   },
   "outputs": [],
   "source": [
    "autoencoder = load_model('./models/cluster/simple_cnn_autoencoder.hdf5')\n",
    "sym_autoencoder = load_model('./models/gated_cnn_autoencoder.hdf5')"
   ]
  },
  {
   "cell_type": "code",
   "execution_count": 6,
   "metadata": {
    "collapsed": true
   },
   "outputs": [],
   "source": [
    "def get_ssim(originalSet,noisySet):\n",
    "    return ssim(originalSet, noisySet,data_range=originalSet.max() - noisySet.min(), multichannel=True)"
   ]
  },
  {
   "cell_type": "code",
   "execution_count": 7,
   "metadata": {
    "collapsed": true
   },
   "outputs": [],
   "source": [
    "def scale_image(img,vmin,vmax):\n",
    "    umin = img.min()\n",
    "    umax = img.max()\n",
    "    \n",
    "    sf = 1.0*(vmax - vmin)/(umax - umin)\n",
    "    scaled_image = vmin + 1.0*(img - umin)*sf\n",
    "    return scaled_image"
   ]
  },
  {
   "cell_type": "code",
   "execution_count": 8,
   "metadata": {
    "collapsed": true
   },
   "outputs": [],
   "source": [
    "def add_multichannel_gaussian(test_img,noise_std):\n",
    "    noise = np.random.normal(0,noise_std, (test_img.shape[0],test_img.shape[1])).astype('uint8')\n",
    "    noisy_test = np.ones((test_img.shape[0],test_img.shape[1],3),dtype=np.uint8)\n",
    "    noisy_test[:,:,0] = test_img[:,:,0] + noise\n",
    "    noisy_test[:,:,1] = test_img[:,:,1] + noise\n",
    "    noisy_test[:,:,2] = test_img[:,:,2] +noise\n",
    "    noisy_test = np.clip(noisy_test,0.,255.)\n",
    "    \n",
    "    return noisy_test\n",
    "\n",
    "def add_greyscale_noise(test_img,mean,noise_std):\n",
    "    noise = np.random.normal(mean,noise_std, (test_img.shape[0],test_img.shape[1])).astype('float64')\n",
    "    test_img = test_img + noise\n",
    "  \n",
    "    grey_test = scale_image(test_img,0,255)\n",
    "    \n",
    "    grey_noisy = np.zeros((test_img.shape[0],test_img.shape[1],3),dtype=np.uint8)\n",
    "    grey_noisy[:,:,0] = grey_test\n",
    "    grey_noisy[:,:,1] = grey_test\n",
    "    grey_noisy[:,:,2] = grey_test\n",
    "    \n",
    "    \n",
    "    \n",
    "    return grey_noisy,grey_test"
   ]
  },
  {
   "cell_type": "code",
   "execution_count": 14,
   "metadata": {
    "collapsed": true
   },
   "outputs": [],
   "source": [
    "#plt.imshow(out_autoencoder[0])\n",
    "\n",
    "def predict_save(model,image_path):\n",
    "    \n",
    "    noise_std = 30\n",
    "    test_img = cv2.imread(image_path,0)\n",
    "    cv2.imwrite(\"gt.png\",test_img)\n",
    "    test_img = np.array(test_img)\n",
    "    \n",
    "    #Adding noise\n",
    "    #noisy_test is grayscale in multichannel and noisy_test_SC is grayscale in singlechannel\n",
    "    noisy_test,noisy_test_SC = add_greyscale_noise(test_img,0,noise_std)\n",
    "    cv2.imwrite(\"noisy.png\",noisy_test_SC)\n",
    "    print compare_psnr(test_img.astype('uint8'),noisy_test_SC.astype('uint8')), get_ssim(test_img.astype('uint8'),noisy_test_SC.astype('uint8'))\n",
    "    \n",
    "    \n",
    "    #NLM Denoise\n",
    "    #nlm_out = cv2.fastNlMeansDenoising(noisy_test.astype('uint8'),noise_std,7,21)\n",
    "    #print nlm_out.shape,test_img.shape\n",
    "    #cv2.imwrite(\"nlm_denoise.png\",nlm_out)\n",
    "    #print compare_psnr(nlm_out.astype('uint8'),test_img.astype('uint8')), get_ssim(nlm_out.astype('uint8'),test_img.astype('uint8'))\n",
    "    \n",
    "\n",
    "    \n",
    "    noisy_test = noisy_test.reshape(1,noisy_test.shape[0],noisy_test.shape[1],noisy_test.shape[2])\n",
    "    noisy_test = noisy_test/255.0\n",
    "    \n",
    "    out = model.predict(noisy_test,verbose=1)\n",
    "    \n",
    "    output_img = (out[0][:,:,0]*255.).astype('uint8');\n",
    "    #output_img = (out[0]*255.).astype('uint8');\n",
    "    #print out[0][:,:,1]*255.-out[0][:,:,2]*255.\n",
    "    cv2.imwrite(\"denoised.png\",output_img)\n",
    "    #print output_img[:,:,0].shape,test_img.shape\n",
    "    print compare_psnr(output_img,test_img.astype('uint8')), get_ssim(output_img,test_img.astype('uint8'))\n",
    "    "
   ]
  },
  {
   "cell_type": "code",
   "execution_count": 17,
   "metadata": {},
   "outputs": [
    {
     "name": "stdout",
     "output_type": "stream",
     "text": [
      "17.7711530511 0.269747860059\n",
      "1/1 [==============================] - 0s\n",
      "21.7866181342 0.720469256745\n"
     ]
    }
   ],
   "source": [
    "predict_save(autoencoder,'./data/standard_test_images/gt/cameraman.tif')"
   ]
  },
  {
   "cell_type": "code",
   "execution_count": 227,
   "metadata": {},
   "outputs": [
    {
     "name": "stdout",
     "output_type": "stream",
     "text": [
      "Help on built-in function fastNlMeansDenoising in module cv2:\n",
      "\n",
      "fastNlMeansDenoising(...)\n",
      "    fastNlMeansDenoising(src[, dst[, h[, templateWindowSize[, searchWindowSize]]]]) -> dst\n",
      "\n"
     ]
    }
   ],
   "source": [
    "help(cv2.fastNlMeansDenoising)"
   ]
  },
  {
   "cell_type": "code",
   "execution_count": null,
   "metadata": {
    "collapsed": true
   },
   "outputs": [],
   "source": []
  },
  {
   "cell_type": "code",
   "execution_count": null,
   "metadata": {
    "collapsed": true
   },
   "outputs": [],
   "source": []
  }
 ],
 "metadata": {
  "kernelspec": {
   "display_name": "Python 2",
   "language": "python",
   "name": "python2"
  },
  "language_info": {
   "codemirror_mode": {
    "name": "ipython",
    "version": 2
   },
   "file_extension": ".py",
   "mimetype": "text/x-python",
   "name": "python",
   "nbconvert_exporter": "python",
   "pygments_lexer": "ipython2",
   "version": "2.7.11"
  }
 },
 "nbformat": 4,
 "nbformat_minor": 2
}
